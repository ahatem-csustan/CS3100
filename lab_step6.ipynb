{
  "nbformat": 4,
  "nbformat_minor": 0,
  "metadata": {
    "colab": {
      "name": "lab_step6.ipynb",
      "provenance": [],
      "collapsed_sections": [],
      "toc_visible": true,
      "authorship_tag": "ABX9TyPYqYAJvuEtX9aEQdOjuBc6",
      "include_colab_link": true
    },
    "kernelspec": {
      "name": "python3",
      "display_name": "Python 3"
    },
    "language_info": {
      "name": "python"
    }
  },
  "cells": [
    {
      "cell_type": "markdown",
      "metadata": {
        "id": "view-in-github",
        "colab_type": "text"
      },
      "source": [
        "<a href=\"https://colab.research.google.com/github/ahatem-csustan/CS3100/blob/main/lab_step6.ipynb\" target=\"_parent\"><img src=\"https://colab.research.google.com/assets/colab-badge.svg\" alt=\"Open In Colab\"/></a>"
      ]
    },
    {
      "cell_type": "markdown",
      "metadata": {
        "id": "tvvo3IyXHZaR"
      },
      "source": [
        "# Lab Step6: Example Project Continued \n",
        "\n",
        "In this lab, we will continue working on the project. The lab will go over the **Car Inventory system** to guide you through building your system. \n",
        "\n",
        "## Project Description\n",
        "\n",
        "The car dealer has been very happy so far about the Car Inventory System that he developed. However, he found a couple of problems in the system so far:\n",
        "\n",
        "\n",
        "1.   There is no specific GUI/command line to use it to interact with the system\n",
        "2.   He is not very happy with using a list of cars. He feels that there should be a better way to store all information about the cars and makes it faster to retrieve information.\n",
        "\n",
        "In the following, we will go over the above two steps and see how we could adjust the system to better suit the car dealer's need. \n",
        "\n",
        "## GUI/Commandline:\n",
        "\n",
        "The system so far does not have a central point through which the car dealer can interact with the system. We need to go ahead and create a command line interface that interacts with the system.\n",
        "\n",
        "Here is what we have in our system so far:\n",
        "\n"
      ]
    },
    {
      "cell_type": "code",
      "metadata": {
        "id": "8Xwbff7iHQgY"
      },
      "source": [
        "### YOU CAN RUN AND COMPILE THIS CODE ####\n",
        "class Car: # car class to hold information about a single car \n",
        "\n",
        "  def __init__(self): # constructor\n",
        "    self.__vin = 0\n",
        "    self.__model = \"\"\n",
        "    self.__make = \"\"\n",
        "    self.__list_seats = []\n",
        "    self.__color = \"\"\n",
        "\n",
        "  def get_vin(self):\n",
        "    return self.__vin \n",
        "\n",
        "  def set_vin(self, vin):\n",
        "    assert vin > 0 # check if the vin is less than zero\n",
        "    self.__vin = vin\n",
        "\n",
        "  def get_model(self):\n",
        "    return self.__model\n",
        "\n",
        "  def set_model(self, model):\n",
        "    self.__model = model\n",
        "\n",
        "  def get_make(self):\n",
        "    return self.__make \n",
        "\n",
        "  def set_make(self, make):\n",
        "    self.__make = make \n",
        "\n",
        "  def get_color(self):\n",
        "    return self.__color\n",
        "\n",
        "  def set_color(self, color):\n",
        "    self.__color = color \n",
        "\n",
        "  def add_seat(self, seat): # adding a seat to the list of seats\n",
        "    self.__list_seats.append(seat) \n",
        "\n",
        "  def get_seats(self): # returning the complete list of seats\n",
        "    return self.__list_seats                     \n",
        "\n",
        "\n",
        "  def __str__(self): # adding a magic method to be able to print the car information\n",
        "    line =  \"Model: \" + self.__model + \" Make:\" + self.__make + \" Color: \" + self.__color #+ \" Seats: \" + self.__list_seats  \n",
        "    return line"
      ],
      "execution_count": 11,
      "outputs": []
    },
    {
      "cell_type": "code",
      "metadata": {
        "id": "bOO4ahrNJAC7"
      },
      "source": [
        "### YOU CAN RUN AND COMPILE THIS CODE ####\n",
        "\n",
        "from abc import abstractmethod\n",
        "from abc import ABC, abstractmethod\n",
        "\n",
        "class CarInventoryAbstract(ABC):\n",
        "\n",
        "  @abstractmethod\n",
        "  def search_vin(self, vin): # given the vin number, return a car object that has a matching vin number\n",
        "    pass\n",
        "\n",
        "  @abstractmethod\n",
        "  def create_inventory(self, car_information_file):\n",
        "    pass \n",
        "\n",
        "# CarInventory class. The main class for the system that handles the searching and other operations \n",
        "class CarInventory(CarInventoryAbstract):\n",
        "\n",
        "  def __init__(self):\n",
        "    self.__list_cars = [] # creating a list of cars \n",
        "\n",
        "  def search_vin(self, vin): # given the vin number, return a car object that has a matching vin number\n",
        "    for car in self.__list_cars:\n",
        "      if car.get_vin() == vin:\n",
        "        return car  # return the car object if it is found\n",
        "\n",
        "    return None     # if it is not found, then return Null\n",
        "\n",
        "\n",
        "  def create_inventory(self, car_information_file):\n",
        "    # Open the file for reading \n",
        "     # loop through each line of the file\n",
        "     # For each line, create a car object and add it to the list of cars.\n",
        "    with open(car_information_file) as file:\n",
        "      for line in file:\n",
        "        line = line.strip(\"\\n\")\n",
        "\n",
        "        words = line.split()\n",
        "\n",
        "        car = Car()\n",
        "        car.set_make(words[0])\n",
        "        car.set_model(words[1])\n",
        "        car.set_color(words[2])\n",
        "        car.set_vin(int(words[3]))\n",
        "        car.add_seat(words[4])\n",
        "        car.add_seat(words[5])\n",
        "        car.add_seat(words[6])\n",
        "        \n",
        "        self.__list_cars.append(car) "
      ],
      "execution_count": 23,
      "outputs": []
    },
    {
      "cell_type": "code",
      "metadata": {
        "id": "ZsDnVFCmJH1H"
      },
      "source": [
        "### YOU CAN RUN AND COMPILE THIS CODE ####\n",
        "\n",
        "# Creating the car information file.\n",
        "with open('car_information_file.txt', 'w') as writefile:\n",
        "    writefile.write(\"Honda  CRV Black 12331314124133156 black blue  red\\n\") \n",
        "    writefile.write(\"Honda  CRV Red 34950468107179134 black black black\\n\")  \n",
        "    writefile.write(\"Toyota  Highlander Blue 12128496358719487 black black black\\n\") "
      ],
      "execution_count": 5,
      "outputs": []
    },
    {
      "cell_type": "markdown",
      "metadata": {
        "id": "9Yobf5JzJWO8"
      },
      "source": [
        "Now, we need to create another part that handles the interface. We could either create a new class or we could just implement a single function."
      ]
    },
    {
      "cell_type": "code",
      "metadata": {
        "colab": {
          "base_uri": "https://localhost:8080/"
        },
        "id": "BEX0To5RLPZy",
        "outputId": "62f063e9-c65a-49e1-cca0-f5c8a90b8b71"
      },
      "source": [
        "class Interface: # Holds the functions for the interface \n",
        "\n",
        "  @staticmethod\n",
        "  def car_inventory_cl(): # a command line interface for the car inventory\n",
        "\n",
        "\n",
        "    print(\"***********************************************************\")\n",
        "    print(\"*   Welcome to the car inventory system   *\")\n",
        "    print(\"***********************************************************\")\n",
        "    print(\"[0] - exit program\")\n",
        "    print(\"[1] - Input files\")\n",
        "    print(\"[2] - Input query\")\n",
        "\n",
        "    cInventory = CarInventory()\n",
        "\n",
        "    option = 1\n",
        "    while(option != 0):\n",
        "        option = int(input(\"Option: \"))\n",
        "\n",
        "        # enter the path to the files to build the system\n",
        "        if option == 1:\n",
        "            file_name = input(\"Enter the name of the Inventory File:\")\n",
        "            cInventory.create_inventory(file_name)\n",
        "\n",
        "            # enter the input query and search through the system to find the query\n",
        "        elif option == 2:\n",
        "            vin = int(input(\"Enter the car vin: \"))\n",
        "            car = cInventory.search_vin(vin)\n",
        "            if car == None:\n",
        "              print(\"Car not found\")\n",
        "            else:\n",
        "              print(car)  \n",
        "\n",
        "        elif option != 0:\n",
        "            print(\"Invalid option\")\n",
        "\n",
        "\n",
        "if __name__ == \"__main__\":\n",
        "  Interface.car_inventory_cl()\n",
        "\n",
        "    \n"
      ],
      "execution_count": 24,
      "outputs": [
        {
          "name": "stdout",
          "output_type": "stream",
          "text": [
            "***********************************************************\n",
            "*   Welcome to the car inventory system   *\n",
            "***********************************************************\n",
            "[0] - exit program\n",
            "[1] - Input files\n",
            "[2] - Input query\n",
            "Option: 1\n",
            "Enter the name of the Inventory File:car_information_file.txt\n",
            "Option: 2\n",
            "Enter the car vin: 332\n",
            "Car not found\n",
            "Option: 0\n"
          ]
        }
      ]
    },
    {
      "cell_type": "markdown",
      "metadata": {
        "id": "on0VhZskWp5r"
      },
      "source": [
        "The above function is a static function, meaning that we do not need to make an instance of the class in order to call the function. We can now call the function directly from inside the class using the class name ```Interface.car_inventory_cl()```\n",
        "\n",
        "As you could notice, we could change our interface by using multiple different functions. Based on the function that we will call, we can decide what interface we could have."
      ]
    },
    {
      "cell_type": "code",
      "metadata": {
        "id": "lKPX64xkW8J3"
      },
      "source": [
        "## You code post your code here and test it if you need to test your GUI"
      ],
      "execution_count": null,
      "outputs": []
    },
    {
      "cell_type": "markdown",
      "metadata": {
        "id": "OIkW3tFCXWof"
      },
      "source": [
        "## Dictionary Class\n",
        "\n",
        "Now that the dealer could finally work with the system, add to it, or search for multiple cars, he wants to edit the system to make it faster. One suggestion is to use the dictionary. \n",
        "\n",
        "So, we want to go ahead and implement the dictionary class. The Dictionary is an ADT, i.e., different data structures can be used to implement it. We will go ahead and implement it using a Binary Search Tree."
      ]
    },
    {
      "cell_type": "code",
      "metadata": {
        "colab": {
          "base_uri": "https://localhost:8080/"
        },
        "id": "iEq8ku0sYLfr",
        "outputId": "25692326-bdd0-4dce-b19c-47a38797f74c"
      },
      "source": [
        "### COMPILE AND RUN THIS CODE ###\n",
        "\n",
        "\"\"\"\n",
        "Dictionary implementation using Binary Search Trees\n",
        "Some of the codes here are adapted from:\n",
        "https://w3.cs.jmu.edu/spragunr/CS240_F12/lectures/maps/bst_map.py\n",
        "\n",
        "Modifications by: Ayat Hatem Oct. 2020\n",
        "\"\"\"\n",
        "import time\n",
        "\n",
        "#Declaring a private node class\n",
        "class _BSTNode:\n",
        "\n",
        "    def __init__(self, key, value):\n",
        "        self.key = key\n",
        "        self.value = value\n",
        "        self.left = None\n",
        "        self.right = None\n",
        "\n",
        "    #Definiting our print format. Now we can call\n",
        "    #print(Node)\n",
        "    def __str__(self):\n",
        "        return str(self.key) + \": \" + str(self.value)\n",
        "\n",
        "#Implementing a dictionary using a binary search tree\n",
        "class BSTDict:\n",
        "\n",
        "    def __init__(self):\n",
        "        #Constructing an empty Dict\n",
        "        self._root = None\n",
        "        self._size = 0\n",
        "\n",
        "    def __len__(self):\n",
        "        #Return the number of items stored in the dictionary\n",
        "        return self._size\n",
        "\n",
        "    #Implementing the python magic method __contains__\n",
        "    #This will help to use in true or false sentences\n",
        "    #e.g., if key is in dict\n",
        "    def __contains__(self, key):\n",
        "        #Return true if key is in the dictionary, False otherwise\n",
        "        return not self._find(self._root, key) is None\n",
        "\n",
        "    #Implementing the python magic method __getitem__\n",
        "    #This function will help in using this sytax dict[key]\n",
        "    def __getitem__(self, key):\n",
        "        #Given a key, return the coresponding value. Raises a KeyError\n",
        "        #if key is not in the map.\n",
        "        #dict[4]\n",
        "        node = self._find(self._root, key)\n",
        "        if node == None:\n",
        "            raise KeyError(\"Item does not exist\")\n",
        "        return node.value\n",
        "\n",
        "    #Internal function that looks for the node with\n",
        "    #the given specified value\n",
        "    def _find(self, node, key):\n",
        "        #This is a recursive function that recursively Search\n",
        "        #through the binary tree to find the key-value pair\n",
        "        #with the specified given key\n",
        "        #IF the key is found, return the node with the given key\n",
        "        if node is None:\n",
        "            return None\n",
        "        if key == node.key:\n",
        "            return node\n",
        "        if key < node.key:\n",
        "            return self._find(node.left, key)\n",
        "        elif key > node.key:\n",
        "            return self._find(node.right, key)\n",
        "\n",
        "\n",
        "    def __setitem__(self, key, value):\n",
        "        #Implements self[key] = value.  If key is already stored in\n",
        "        #the dictionary then its value is modified.  If key is not in the map,\n",
        "        #it is added.\n",
        "        if self._root == None:\n",
        "            self._root = _BSTNode(key, value)\n",
        "            self._size += 1\n",
        "        else:\n",
        "            self._insert(self._root, key, value)\n",
        "\n",
        "\n",
        "    #Internal function to insert a key-value pair into the dictionary\n",
        "    def _insert(self, node, key, value):\n",
        "        # If a matching key found, then update the value\n",
        "        if node.key == key:\n",
        "            node.value = value\n",
        "\n",
        "        # If the matching key is smaller, then look in\n",
        "        # the left subtree\n",
        "        elif key < node.key:\n",
        "            if node.left is not None:\n",
        "                self._insert(node.left, key, value)\n",
        "            else:\n",
        "                node.left = _BSTNode(key, value)\n",
        "                self._size += 1\n",
        "        # If the matching key is larger, then look in the\n",
        "        # right subtree\n",
        "        else:\n",
        "            if node.right is not None:\n",
        "                self._insert(node.right, key, value)\n",
        "            else:\n",
        "                node.right = _BSTNode(key, value)\n",
        "                self._size += 1\n",
        "\n",
        "    #Remove a node from the tree with the indicated key\n",
        "    #Return the value after removing the node\n",
        "    #Raise a KeyError if the key is not in the map.\"\n",
        "    def pop(self, key):\n",
        "\n",
        "        #Calling the __getitem__ function to get the value\n",
        "        #If the entry with the given key\n",
        "        value = self[key]\n",
        "        self._root = self._remove(self._root, key)\n",
        "        self._size -= 1\n",
        "        return value\n",
        "\n",
        "    #Internal helper function that recursively search for the node\n",
        "    #with the given key. If the key does not exist, then raise an\n",
        "    #exception\n",
        "    def _remove(self, node, key):\n",
        "\n",
        "        # Key is not found, raise an exception\n",
        "        assert node is not None, \"Cannot remove non-existent key.\"\n",
        "\n",
        "        # If key is smaller, then go to the left tree\n",
        "        if key < node.key:\n",
        "            node.left = self._remove(node.left, key)\n",
        "\n",
        "        # IF data is larger, go to the right tree\n",
        "        elif key > node.key:\n",
        "            node.right = self._remove(node.right, key)\n",
        "\n",
        "        # key is found\n",
        "        else:\n",
        "            # Empty left side\n",
        "            if node.left is None:\n",
        "                temp = node.right\n",
        "                node = None\n",
        "                return temp\n",
        "            # Empty right child\n",
        "            elif node.right is None:\n",
        "                temp = node.left\n",
        "                node = None\n",
        "                return temp\n",
        "            # Has two children\n",
        "            # Find the inorder successor and replace it\n",
        "            # with the node\n",
        "            temp = self._min_value_node(node.right)\n",
        "            node.key = temp.key\n",
        "            node.value = temp.value\n",
        "            #Delete the inorder successor after swapping\n",
        "            node.right = self._remove(node.right, node.key)\n",
        "\n",
        "        return node\n",
        "\n",
        "    # Internal helper function that looks for the smallest successor key\n",
        "    def _min_value_node(self, node):\n",
        "        current = node\n",
        "        while (current.left is not None):\n",
        "            current = current.left\n",
        "        return current\n",
        "\n",
        "    # Inorder traversal to print the tree\n",
        "    # There is a better way of implementing a print function\n",
        "    # through using iterators. This part is more advanced\n",
        "    # Will use a simple print function that loops through the tree\n",
        "    def print_tree(self):\n",
        "        if self._root is not None:\n",
        "            self._print_tree(self._root)\n",
        "\n",
        "    # Internal helper function that recursively print\n",
        "    # everything in the tree\n",
        "    def _print_tree(self, node):\n",
        "        if node is not None:\n",
        "            self._print_tree(node.left)\n",
        "            #print(\"{key} : {value}\".format(key = node.key, value = node.value))\n",
        "            print(node)\n",
        "            self._print_tree(node.right)\n",
        "\n",
        "def main():\n",
        "    \n",
        "    dict = BSTDict()\n",
        "    # Adding an item to the dictionary\n",
        "    dict[0] = \"Jack\"\n",
        "    dict[1] = \"John\"\n",
        "    dict[2] = \"Annie\"\n",
        "    # Printing all entries in the dictionary\n",
        "    dict.print_tree()\n",
        "    # Removing node with key 1\n",
        "    dict.pop(1)\n",
        "    # Printing after removing the key\n",
        "    print(\"node with key 1 is removed\")\n",
        "    dict.print_tree()\n",
        "    print(\"Reseting the value at key 2 to be Tom:\")\n",
        "    dict[2] = \"Tom\"\n",
        "    dict.print_tree()\n",
        "\n",
        "\n",
        "\n",
        "if __name__ == \"__main__\":\n",
        "    main()\n"
      ],
      "execution_count": 22,
      "outputs": [
        {
          "output_type": "stream",
          "name": "stdout",
          "text": [
            "0: Jack\n",
            "1: John\n",
            "2: Annie\n",
            "node with key 1 is removed\n",
            "0: Jack\n",
            "2: Annie\n",
            "Reseting the value at key 2 to be Tom:\n",
            "0: Jack\n",
            "2: Tom\n"
          ]
        }
      ]
    },
    {
      "cell_type": "code",
      "metadata": {
        "id": "SQx-dKPhcNmd"
      },
      "source": [
        "# Start implementing your dictionary class \n",
        "# Decide first what functions you need for your dictionary "
      ],
      "execution_count": null,
      "outputs": []
    },
    {
      "cell_type": "markdown",
      "metadata": {
        "id": "GA-ZtY81k2q_"
      },
      "source": [
        "Since the dictionary class is an ADT and can be implemented in different ways, we will go ahead and define an abstract class representing the dictionary we have."
      ]
    },
    {
      "cell_type": "code",
      "metadata": {
        "id": "pPyink3tk-Py"
      },
      "source": [
        "from abc import abstractmethod\n",
        "from abc import ABC, abstractmethod\n",
        "\n",
        "class DictAbstract(ABC):\n",
        "\n",
        "  #Return the number of items stored in the dictionary\n",
        "  @abstractmethod\n",
        "  def __len__(self):\n",
        "    pass\n",
        "\n",
        "  #Implementing the python magic method __contains__\n",
        "  #This will help to use in true or false sentences\n",
        "  #e.g., if key is in dict\n",
        "  @abstractmethod\n",
        "  def __contains__(self, key):\n",
        "    pass\n",
        "\n",
        "  #Implementing the python magic method __getitem__\n",
        "  #This function will help in using this sytax dict[key]\n",
        "  @abstractmethod\n",
        "  def __getitem__(self, key):  \n",
        "    pass\n",
        "\n",
        "  #Implements self[key] = value.  If key is already stored in\n",
        "  #the dictionary then its value is modified.  If key is not in the map,\n",
        "  #it is added.\n",
        "  @abstractmethod\n",
        "  def __setitem__(self, key, value):\n",
        "    pass\n",
        "\n",
        "\n",
        "  #Remove a node from the tree with the indicated key\n",
        "  #Return the value after removing the node\n",
        "  #Raise a KeyError if the key is not in the map.\"\n",
        "  @abstractmethod\n",
        "  def pop(self, key):\n",
        "    pass\n",
        "\n",
        "\n",
        "  # Inorder traversal to print the tree\n",
        "  # There is a better way of implementing a print function\n",
        "  # through using iterators. This part is more advanced\n",
        "  # Will use a simple print function that loops through the tree\n",
        "  @abstractmethod\n",
        "  def print_tree(self):\n",
        "    pass"
      ],
      "execution_count": 32,
      "outputs": []
    },
    {
      "cell_type": "markdown",
      "metadata": {
        "id": "MmBhaM5UoCEZ"
      },
      "source": [
        "Now we modify the ```BSTDict``` class to inhert from the ```DictAbstract``` class"
      ]
    },
    {
      "cell_type": "code",
      "metadata": {
        "id": "9I2GlWHWoKO1"
      },
      "source": [
        "class BSTDict(BSTDict):\n",
        "  # Remaining part of the code stays the same "
      ],
      "execution_count": null,
      "outputs": []
    },
    {
      "cell_type": "markdown",
      "metadata": {
        "id": "3MlX1dUkcEts"
      },
      "source": [
        "## CarIventory Dictionary Based class\n",
        "\n",
        "Now that we have our dictionary class, we could go ahead and use it to make a new CarInventory class that is dictionary based. \n",
        "\n",
        "First thing, we need to inhert from the abstract class. We are going to implement the same functions."
      ]
    },
    {
      "cell_type": "code",
      "metadata": {
        "id": "58YXLr7RfMy3"
      },
      "source": [
        "class CarInventoryDict(CarInventoryAbstract):"
      ],
      "execution_count": null,
      "outputs": []
    },
    {
      "cell_type": "markdown",
      "metadata": {
        "id": "ixlIEDbEfa4-"
      },
      "source": [
        "Second, we need to decide what we want to implement differently than the list version:\n",
        "\n",
        "1.   A Dictionary Object instead of a list. We need to decide what our key-value pairs are. In our case here, the key is the vin number and the value is the car object\n",
        "2.   Change the create function to add to a dictionary instead of a list\n",
        "3.   Change the search function to search using the Dictionary search function\n"
      ]
    },
    {
      "cell_type": "code",
      "metadata": {
        "colab": {
          "base_uri": "https://localhost:8080/"
        },
        "id": "8uIOCjlIf26A",
        "outputId": "28a6c518-c6a2-4ef8-e77a-30ced5fce41f"
      },
      "source": [
        "### COMPILE AND RUN THIS CODE ###\n",
        "\n",
        "class CarInventoryDict(CarInventoryAbstract):\n",
        "\n",
        "  def __init__(self):\n",
        "    self.__car_dict = BSTDict()\n",
        "\n",
        "\n",
        "  def search_vin(self, vin):\n",
        "    if vin in self.__car_dict: # searching through the dictionary using the magic method\n",
        "      return self.__car_dict[vin]\n",
        "\n",
        "  def create_inventory(self, car_information_file):\n",
        "    # Open the file for reading \n",
        "     # loop through each line of the file\n",
        "     # For each line, create a car object and add it to dictionary object.\n",
        "    with open(car_information_file) as file:\n",
        "      for line in file:\n",
        "        line = line.strip(\"\\n\")\n",
        "\n",
        "        words = line.split()\n",
        "\n",
        "        car = Car()\n",
        "        car.set_make(words[0])\n",
        "        car.set_model(words[1])\n",
        "        car.set_color(words[2])\n",
        "        car.set_vin(int(words[3]))\n",
        "        car.add_seat(words[4])\n",
        "        car.add_seat(words[5])\n",
        "        car.add_seat(words[6])\n",
        "        \n",
        "        self.__car_dict[car.get_vin()] = car  # adding to the dictionary using the magic methods\n",
        "\n",
        "# Implementing the main to make sure that the class is working and the functions\n",
        "def main():\n",
        "  cInventoryDict = CarInventoryDict()\n",
        "  cInventoryDict.create_inventory(\"car_information_file.txt\")\n",
        "  vin = 34950468107179134\n",
        "  car = cInventoryDict.search_vin(vin) # searching for the given vin \n",
        "\n",
        "  if car == None:\n",
        "    print(\"Car not found\")\n",
        "\n",
        "  else:\n",
        "    print(car) # using the __str__ magic method from the car class \n",
        "\n",
        "\n",
        "if __name__ == \"__main__\":\n",
        "  main()  \n"
      ],
      "execution_count": 31,
      "outputs": [
        {
          "output_type": "stream",
          "name": "stdout",
          "text": [
            "Model: CRV Make:Honda Color: Red\n"
          ]
        }
      ]
    },
    {
      "cell_type": "markdown",
      "metadata": {
        "id": "aXRRbXIsogX3"
      },
      "source": [
        "## Summary\n",
        "\n",
        "In this lab, we covered how to modify our ```CarInventory``` to use a dictionary instead of a list. You do not need to implement your dictionary the same way I implemented mine, i.e., using magic methods. You could implement the dictionary using much simpler functions, e.g., ```insert(key, value)``` to add a new key-value pair to the dictionary instead of using ```__setitem__``` magic method. \n",
        "\n",
        "This lab did not include how to write a test function for the ```BSTDict``` nor the ```CarInventoryDict``` classes. Refer to the previous lab to know how to write a test function. You will add your test functions to your main ```Test``` class that you created in the previous lab."
      ]
    }
  ]
}