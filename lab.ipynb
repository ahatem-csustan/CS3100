{
  "nbformat": 4,
  "nbformat_minor": 0,
  "metadata": {
    "colab": {
      "name": "lab.ipynb",
      "provenance": [],
      "collapsed_sections": [],
      "authorship_tag": "ABX9TyNcFeg3a7obYR+10lD/UWQv",
      "include_colab_link": true
    },
    "kernelspec": {
      "name": "python3",
      "display_name": "Python 3"
    },
    "language_info": {
      "name": "python"
    }
  },
  "cells": [
    {
      "cell_type": "markdown",
      "metadata": {
        "id": "view-in-github",
        "colab_type": "text"
      },
      "source": [
        "<a href=\"https://colab.research.google.com/github/ahatem-csustan/CS3100/blob/main/lab.ipynb\" target=\"_parent\"><img src=\"https://colab.research.google.com/assets/colab-badge.svg\" alt=\"Open In Colab\"/></a>"
      ]
    },
    {
      "cell_type": "markdown",
      "metadata": {
        "id": "Q698KBAlp2EY"
      },
      "source": [
        "#Lab: Example Project \n",
        "\n",
        "In this lab, you will go over the different sections and try to build your project similar to the suggested project. Think how the given project maps to your project. The given project here is not complete; i.e., the implementation of some functions is not given and you will not be able to compile the incomplete code. The code that you can compile will have a note saying that it is complete and you can compile it. "
      ]
    },
    {
      "cell_type": "markdown",
      "metadata": {
        "id": "llAttQX-vLNs"
      },
      "source": [
        "## Project description\n",
        "\n",
        "A Car Dealer wants to keep track of all the cars that he has. He has hundreds of cars of different models and he wants to be able to retireve information about a specific car using its vin number. He wants to develop a program that allows him to do that. \n",
        "\n",
        "The system requirements are as follow:\n",
        "*   Read the car information from the car_information_file\n",
        "*   Store the information about the cars in the program\n",
        "*   Allow the user to enter the vin number and search for that car information\n",
        "*   If there is no car with the given vin number, the program will return \"car information not found\"\n"
      ]
    },
    {
      "cell_type": "markdown",
      "metadata": {
        "id": "7k49cSZazd-c"
      },
      "source": [
        "### System Design\n",
        "\n",
        "#### Step1: Car \n",
        "In order to develop the above mentioned system, we need first to define what the single unit we are working with. As you could see, this system works with cars, so, we need first to define what a car is. We need to create a class representing a car and what attributes a car would have. \n",
        " "
      ]
    },
    {
      "cell_type": "code",
      "metadata": {
        "id": "7JNnDvT0p0XX"
      },
      "source": [
        "class Car: # car class to hold information about a single car \n",
        "\n",
        "  def __init__(self): # constructor\n",
        "    self.__vin = 0\n",
        "    self.__model = \"\"\n",
        "    self.__make = \"\"\n",
        "    self.__list_seats = []\n",
        "    self.__color = \"\""
      ],
      "execution_count": 1,
      "outputs": []
    },
    {
      "cell_type": "markdown",
      "metadata": {
        "id": "uK18xwzJjQ5D"
      },
      "source": [
        "The attributes are all private. We need to have getters and setters to be able to access them. The setters as well help in making sure that certain contraints are applied before setting the value."
      ]
    },
    {
      "cell_type": "code",
      "metadata": {
        "id": "6XreWUzInguT"
      },
      "source": [
        "### YOU CAN RUN AND COMPILE THIS CODE ####\n",
        "class Car: # car class to hold information about a single car \n",
        "\n",
        "  def __init__(self): # constructor\n",
        "    self.__vin = 0\n",
        "    self.__model = \"\"\n",
        "    self.__make = \"\"\n",
        "    self.__list_seats = []\n",
        "    self.__color = \"\"\n",
        "\n",
        "  def get_vin(self):\n",
        "    return self.__vin \n",
        "\n",
        "  def set_vin(self, vin):\n",
        "    assert vin > 0 # check if the vin is less than zero\n",
        "    self.__vin = vin\n",
        "\n",
        "  def get_model(self):\n",
        "    return self.__model\n",
        "\n",
        "  def set_model(self, model):\n",
        "    self.__model = model\n",
        "\n",
        "  def get_make(self):\n",
        "    return self.__make \n",
        "\n",
        "  def set_make(self, make):\n",
        "    self.__make = make \n",
        "\n",
        "  def get_color(self):\n",
        "    return self.__color\n",
        "\n",
        "  def set_color(self, color):\n",
        "    self.__color = color \n",
        "\n",
        "  def add_seat(self, seat): # adding a seat to the list of seats\n",
        "    self.__list_seats.append(seat) \n",
        "\n",
        "  def get_seats(self): # returning the complete list of seats\n",
        "    return self.__list_seats                 "
      ],
      "execution_count": 4,
      "outputs": []
    },
    {
      "cell_type": "markdown",
      "metadata": {
        "id": "tO8lspfKpaPz"
      },
      "source": [
        "Now, it is time to make sure that the code is correct and no errors. To do so, we will create a simple main here that makes a car object and gets and sets the internal attributes."
      ]
    },
    {
      "cell_type": "code",
      "metadata": {
        "colab": {
          "base_uri": "https://localhost:8080/"
        },
        "id": "mxNzkMwXpn0g",
        "outputId": "4df6c01e-0c99-4c7a-94c1-325916243f52"
      },
      "source": [
        "### YOU CAN RUN AND COMPILE THIS CODE ####\n",
        "\n",
        "\n",
        "def main():\n",
        "\n",
        "  c = Car()\n",
        "  c.set_color(\"Black\")\n",
        "  c.set_model(\"CRV\")\n",
        "  c.set_make(\"Honda\")\n",
        "  c.set_vin(12331414141213144)\n",
        "\n",
        "  print(\"Car info: \" + c.get_color() + \", \" + c.get_model() + \", \" + c.get_make() + \", \" + str(c.get_vin()))\n",
        "\n",
        "\n",
        "\n",
        "if __name__ == \"__main__\":\n",
        "  main()  "
      ],
      "execution_count": 4,
      "outputs": [
        {
          "output_type": "stream",
          "name": "stdout",
          "text": [
            "Car info: Black, CRV, Honda, 12331414141213144\n"
          ]
        }
      ]
    },
    {
      "cell_type": "markdown",
      "metadata": {
        "id": "nSsa7IoKrdVH"
      },
      "source": [
        "Now, it is your turn to think what the single unit would be in you system. For example, if you system is handling movies, the single unit would be a movie. If your system works with students' records, the single unit would be a student. \n",
        "\n",
        "Go ahead and write down in the following code cell the class that represent the single unit you have. Add the getters and setters as well to access the private variables. \n",
        "\n",
        "Afterwards, write down a main function to test that your class is correct. "
      ]
    },
    {
      "cell_type": "code",
      "metadata": {
        "id": "Yo0aJbY0sDDj"
      },
      "source": [
        "# create your class here"
      ],
      "execution_count": null,
      "outputs": []
    },
    {
      "cell_type": "markdown",
      "metadata": {
        "id": "pwSmyFWOswoz"
      },
      "source": [
        "#### Step2: CarInventory\n",
        "\n",
        "The next step to create now the complete system to handle all the cars. The above car class only stores information for a single car. We need now to store information for all cars and search through the cars using the vin to retrieve information about that specific car. \n"
      ]
    },
    {
      "cell_type": "code",
      "metadata": {
        "id": "Fvy8RsEQtgZM"
      },
      "source": [
        "# holds information for all cars in the inventory \n",
        "class CarInventory: "
      ],
      "execution_count": null,
      "outputs": []
    },
    {
      "cell_type": "markdown",
      "metadata": {
        "id": "-_RJswuVtnW8"
      },
      "source": [
        "We are going to use a list (array or a linked list) to store information for all the cars we have in the inventory. "
      ]
    },
    {
      "cell_type": "code",
      "metadata": {
        "id": "xMxm1dXhuBKY"
      },
      "source": [
        "# holds information for all cars in the inventory \n",
        "class CarInventory: \n",
        "\n",
        "  def __init__(self):\n",
        "    self.__list_cars = [] # creating a list of cars "
      ],
      "execution_count": null,
      "outputs": []
    },
    {
      "cell_type": "markdown",
      "metadata": {
        "id": "bZk5CIaiuNgm"
      },
      "source": [
        "The list is currently empty. We need to read the car information from the car_information_file and create the cars and add them to the list of cars.\n",
        "\n",
        "List first create the file. The file here has very simple information and not the complete file but just to show you how the file looks like from the inside."
      ]
    },
    {
      "cell_type": "code",
      "metadata": {
        "id": "rA8uz1ZUvZWi"
      },
      "source": [
        "### YOU CAN RUN AND COMPILE THIS CODE ####\n",
        "\n",
        "# Creating the car information file.\n",
        "with open('car_information_file.txt', 'w') as writefile:\n",
        "    writefile.write(\"Honda  CRV Black 12331314124133156 black blue  red\\n\") \n",
        "    writefile.write(\"Honda  CRV Red 34950468107179134 black black black\\n\")  \n",
        "    writefile.write(\"Toyota  Highlander Blue 12128496358719487 black black black\\n\") "
      ],
      "execution_count": 20,
      "outputs": []
    },
    {
      "cell_type": "markdown",
      "metadata": {
        "id": "ZHSO0lEYxMwL"
      },
      "source": [
        "Here is how the file would look like if we read it an print it."
      ]
    },
    {
      "cell_type": "code",
      "metadata": {
        "colab": {
          "base_uri": "https://localhost:8080/"
        },
        "id": "zYyvpUJgxADk",
        "outputId": "a205653e-275e-45bd-dd48-abf874fe3ec8"
      },
      "source": [
        "### YOU CAN RUN AND COMPILE THIS CODE ####\n",
        "\n",
        "f = open(\"car_information_file.txt\", \"r\")\n",
        "print(f.read())"
      ],
      "execution_count": 6,
      "outputs": [
        {
          "output_type": "stream",
          "name": "stdout",
          "text": [
            "Honda  CRV black 12331314124133156 black blue  red\n",
            "Honda  CRV Red 34950468107179134 black black black\n",
            "Toyota  Highlander Blue 12128496358719487 black black black\n",
            "\n"
          ]
        }
      ]
    },
    {
      "cell_type": "markdown",
      "metadata": {
        "id": "Qywhf5utU_qd"
      },
      "source": [
        "Now, it is your turn to create a sample data file based on the data files you are working with. Create a sample data here and use it with your code. "
      ]
    },
    {
      "cell_type": "code",
      "metadata": {
        "id": "EWbpho02VKgm"
      },
      "source": [
        "# create your data file here"
      ],
      "execution_count": null,
      "outputs": []
    },
    {
      "cell_type": "markdown",
      "metadata": {
        "id": "WyMXOBeKP7bs"
      },
      "source": [
        "Now that we have the file, it is time to see what functions we will need inside the CarInventory class.\n",
        "\n",
        "Mainly, we need to start with two main functions: a function to read the car information from the text file and a function to search through the list of cars to return the car information with the given vin."
      ]
    },
    {
      "cell_type": "code",
      "metadata": {
        "id": "KTG3-FPyQCpq"
      },
      "source": [
        "### YOU CAN RUN AND COMPILE THIS CODE ####\n",
        "\n",
        "class CarInventory:\n",
        "\n",
        "  def __init__(self):\n",
        "    self.__list_cars = [] # creating a list of cars \n",
        "\n",
        "  def search_vin(self, vin): # given the vin number, return a car object that has a matching vin number\n",
        "    for car in self.__list_cars:\n",
        "      if car.get_vin() == vin:\n",
        "        return car  # return the car object if it is found\n",
        "\n",
        "    return None     # if it is not found, then return Null\n",
        "\n",
        "\n",
        "  def create_inventory(self, car_information_file):\n",
        "    # Open the file for reading \n",
        "     # loop through each line of the file\n",
        "     # For each line, create a car object and add it to the list of cars.\n",
        "    with open(car_information_file) as file:\n",
        "      for line in file:\n",
        "        line = line.strip(\"\\n\")\n",
        "\n",
        "        words = line.split()\n",
        "\n",
        "        car = Car()\n",
        "        car.set_make(words[0])\n",
        "        car.set_model(words[1])\n",
        "        car.set_color(words[2])\n",
        "        car.set_vin(int(words[3]))\n",
        "        car.add_seat(words[4])\n",
        "        car.add_seat(words[5])\n",
        "        car.add_seat(words[6])\n",
        "        \n",
        "        self.__list_cars.append(car) \n",
        "     \n"
      ],
      "execution_count": 8,
      "outputs": []
    },
    {
      "cell_type": "markdown",
      "metadata": {
        "id": "kcddfIXZRNoJ"
      },
      "source": [
        "The above code is not complete (the create_inventory function is not implemented). Now, you go ahead and create a class that represent your system. What would be the name of the class? What functions would you need? Implement all of your functions. "
      ]
    },
    {
      "cell_type": "code",
      "metadata": {
        "id": "xZ4d2aefRaZy"
      },
      "source": [
        "# create your class here"
      ],
      "execution_count": null,
      "outputs": []
    },
    {
      "cell_type": "markdown",
      "metadata": {
        "id": "kqhcSWa9RhiB"
      },
      "source": [
        "After you are done, create a main to test your functions. "
      ]
    },
    {
      "cell_type": "code",
      "metadata": {
        "colab": {
          "base_uri": "https://localhost:8080/"
        },
        "id": "FDhiADKMRlaV",
        "outputId": "d19c4a1d-8032-4b8a-cc3e-afed9ee5c00e"
      },
      "source": [
        "### YOU CAN RUN AND COMPILE THIS CODE ####\n",
        "\n",
        "\n",
        "def main():\n",
        "\n",
        "  cInventory = CarInventory()\n",
        "\n",
        "  cInventory.create_inventory(\"car_information_file.txt\") \n",
        "\n",
        "  vin = int(input(\"Enter vin number: \")) # reading the vin number and converting it to integer \n",
        "\n",
        "  car = cInventory.search_vin(vin) # searching for the given vin \n",
        "\n",
        "  if car == None:\n",
        "    print(\"Car not found\")\n",
        "\n",
        "  else:\n",
        "     print(\"Car info: \" + car.get_color() + \", \" + car.get_model() + \", \" + car.get_make() + \", \" + str(car.get_vin()))\n",
        "\n",
        "\n",
        "if __name__ == \"__main__\":\n",
        "  main()  "
      ],
      "execution_count": 12,
      "outputs": [
        {
          "output_type": "stream",
          "name": "stdout",
          "text": [
            "Enter vin number: 12331314124133156\n",
            "Car info: black, CRV, Honda, 12331314124133156\n"
          ]
        }
      ]
    },
    {
      "cell_type": "markdown",
      "metadata": {
        "id": "IUql2diwVO6U"
      },
      "source": [
        "Now, it is your turn to create a main here."
      ]
    },
    {
      "cell_type": "code",
      "metadata": {
        "id": "W10AaEPJVUUU"
      },
      "source": [
        "# Create your main here"
      ],
      "execution_count": null,
      "outputs": []
    },
    {
      "cell_type": "markdown",
      "metadata": {
        "id": "QbQZ2PfEV9cF"
      },
      "source": [
        "#### Step3: CarInventoryAbstract\n",
        "\n",
        "The above `CarInventory` class implementation is limited to the mentioned implementation. However, there are multiple ways you could implement this class. Therefore, it is better to create an abstract class and you could implement this abstract class in multiple ways."
      ]
    },
    {
      "cell_type": "code",
      "metadata": {
        "id": "q5dE_X9Wa1ft"
      },
      "source": [
        "from abc import abstractmethod\n",
        "from abc import ABC, abstractmethod\n",
        "\n",
        "class CarInventoryAbstract(ABC):\n",
        "\n",
        "  @abstractmethod\n",
        "  def search_vin(self, vin): # given the vin number, return a car object that has a matching vin number\n",
        "    pass\n",
        "\n",
        "  @abstractmethod\n",
        "  def create_inventory(self, car_information_file):\n",
        "    pass "
      ],
      "execution_count": 13,
      "outputs": []
    },
    {
      "cell_type": "markdown",
      "metadata": {
        "id": "RaK_W2T0bt5Y"
      },
      "source": [
        "And the CarInventory class can now inherit from the CarInventoryAbstract class"
      ]
    },
    {
      "cell_type": "code",
      "metadata": {
        "id": "YE5qsd2CbtpL"
      },
      "source": [
        "# Inheriting from the base class\n",
        "class CarInventory(CarInventoryAbstract):\n",
        "  # Remaining part of the class stays the same"
      ],
      "execution_count": null,
      "outputs": []
    },
    {
      "cell_type": "markdown",
      "metadata": {
        "id": "vgieQoNIrCmb"
      },
      "source": [
        "#### Step4: Testing \n",
        "\n",
        "As you have noticed, every time I created a class, I wrote a main function to test that class. I verified that the class was working by using print statements and looking at the output of the print. The problem with this approach is that every single time I would do a change to a class or add a new class, I would have to manually compare between the output of the print statement and what I would expect it to be. \n",
        "\n",
        "A better method is to use something called unit testing. In other words, create a test class that you run every time you do a change to the class and breaks if there is a problem in the code. This could be done using the `assert` method. Let's go ahead and see how we could do that."
      ]
    },
    {
      "cell_type": "markdown",
      "metadata": {
        "id": "YlVnOhGGsypT"
      },
      "source": [
        "##### Test:\n",
        "\n",
        "The first thing we will do is to create a Test class that will handle the testing for the classes we have. "
      ]
    },
    {
      "cell_type": "code",
      "metadata": {
        "id": "NRFRj_EFs89-"
      },
      "source": [
        "class Test: # includes test cases for all classes we have \n",
        "\n",
        "  def __init_(self):\n",
        "    pass\n",
        "\n",
        "  def test_car(self): # function to test the car class separately\n",
        "\n",
        "  def test_car_inventory(self):   # function to test the car inventory separately "
      ],
      "execution_count": null,
      "outputs": []
    },
    {
      "cell_type": "markdown",
      "metadata": {
        "id": "i6LO4DEstRLA"
      },
      "source": [
        "Each of the above functions will test a different class. What we want to do is to make sure that all the functions in each class are working as expected. "
      ]
    },
    {
      "cell_type": "code",
      "metadata": {
        "colab": {
          "base_uri": "https://localhost:8080/",
          "height": 358
        },
        "id": "gAQlj24NtbjD",
        "outputId": "cef662ca-0f1e-4e49-f14b-edc9afb1c7ce"
      },
      "source": [
        "### YOU CAN RUN AND COMPILE THIS CODE ####\n",
        "\n",
        "class Test: # includes test cases for all classes we have \n",
        "\n",
        "  def __init_(self):\n",
        "    pass\n",
        "\n",
        "  def test_car(self): # function to test the car class separately\n",
        "\n",
        "    car = Car()\n",
        "    car.set_make(\"Honda\")\n",
        "    car.set_model(\"CRV\")\n",
        "    car.set_color(\"Black\")\n",
        "    car.set_vin(12331314124133156)\n",
        "    car.add_seat(\"Black\")\n",
        "    car.add_seat(\"Red\")\n",
        "\n",
        "    assert car.get_make() == \"Honda\"\n",
        "    assert car.get_model() == \"CRV\"\n",
        "    assert car.get_color() == \"Black\"\n",
        "    assert car.get_vin() == 12331314124133156\n",
        "    assert car.get_seats() == [\"Black\", \"Red\"]\n",
        "\n",
        "    print(\"Everything passed for Car Class\")\n",
        "\n",
        "\n",
        "  def test_car_inventory(self):   # function to test the car inventory separately \n",
        "\n",
        "    cInventory = CarInventory()\n",
        "    cInventory.create_inventory(\"car_information_file.txt\") \n",
        "\n",
        "    vin = 12331314124133156 # reading the vin number and converting it to integer \n",
        "\n",
        "    car = cInventory.search_vin(vin) # searching for the given vin \n",
        "\n",
        "    assert car.get_make() == \"Honda\"\n",
        "    assert car.get_model() == \"CRV\"\n",
        "    assert car.get_color() == \"Black\"\n",
        "    assert car.get_vin() == 12331314124133156\n",
        "    assert car.get_seats() == [\"Black\", \"Blue\",\"Red\"]\n",
        "\n",
        "    print(\"Everything passed for Car Inventory Class\")\n",
        "\n",
        "\n",
        "\n",
        "\n",
        "def main():\n",
        "   \n",
        "   test = Test()\n",
        "   test.test_car()\n",
        "   test.test_car_inventory()\n",
        "\n",
        "if __name__ == \"__main__\":\n",
        "  main()  \n"
      ],
      "execution_count": 21,
      "outputs": [
        {
          "output_type": "stream",
          "name": "stdout",
          "text": [
            "Everything passed for Car Class\n"
          ]
        },
        {
          "output_type": "error",
          "ename": "AssertionError",
          "evalue": "ignored",
          "traceback": [
            "\u001b[0;31m---------------------------------------------------------------------------\u001b[0m",
            "\u001b[0;31mAssertionError\u001b[0m                            Traceback (most recent call last)",
            "\u001b[0;32m<ipython-input-21-4b84921efa67>\u001b[0m in \u001b[0;36m<module>\u001b[0;34m()\u001b[0m\n\u001b[1;32m     52\u001b[0m \u001b[0;34m\u001b[0m\u001b[0m\n\u001b[1;32m     53\u001b[0m \u001b[0;32mif\u001b[0m \u001b[0m__name__\u001b[0m \u001b[0;34m==\u001b[0m \u001b[0;34m\"__main__\"\u001b[0m\u001b[0;34m:\u001b[0m\u001b[0;34m\u001b[0m\u001b[0;34m\u001b[0m\u001b[0m\n\u001b[0;32m---> 54\u001b[0;31m   \u001b[0mmain\u001b[0m\u001b[0;34m(\u001b[0m\u001b[0;34m)\u001b[0m\u001b[0;34m\u001b[0m\u001b[0;34m\u001b[0m\u001b[0m\n\u001b[0m",
            "\u001b[0;32m<ipython-input-21-4b84921efa67>\u001b[0m in \u001b[0;36mmain\u001b[0;34m()\u001b[0m\n\u001b[1;32m     49\u001b[0m    \u001b[0mtest\u001b[0m \u001b[0;34m=\u001b[0m \u001b[0mTest\u001b[0m\u001b[0;34m(\u001b[0m\u001b[0;34m)\u001b[0m\u001b[0;34m\u001b[0m\u001b[0;34m\u001b[0m\u001b[0m\n\u001b[1;32m     50\u001b[0m    \u001b[0mtest\u001b[0m\u001b[0;34m.\u001b[0m\u001b[0mtest_car\u001b[0m\u001b[0;34m(\u001b[0m\u001b[0;34m)\u001b[0m\u001b[0;34m\u001b[0m\u001b[0;34m\u001b[0m\u001b[0m\n\u001b[0;32m---> 51\u001b[0;31m    \u001b[0mtest\u001b[0m\u001b[0;34m.\u001b[0m\u001b[0mtest_car_inventory\u001b[0m\u001b[0;34m(\u001b[0m\u001b[0;34m)\u001b[0m\u001b[0;34m\u001b[0m\u001b[0;34m\u001b[0m\u001b[0m\n\u001b[0m\u001b[1;32m     52\u001b[0m \u001b[0;34m\u001b[0m\u001b[0m\n\u001b[1;32m     53\u001b[0m \u001b[0;32mif\u001b[0m \u001b[0m__name__\u001b[0m \u001b[0;34m==\u001b[0m \u001b[0;34m\"__main__\"\u001b[0m\u001b[0;34m:\u001b[0m\u001b[0;34m\u001b[0m\u001b[0;34m\u001b[0m\u001b[0m\n",
            "\u001b[0;32m<ipython-input-21-4b84921efa67>\u001b[0m in \u001b[0;36mtest_car_inventory\u001b[0;34m(self)\u001b[0m\n\u001b[1;32m     38\u001b[0m     \u001b[0;32massert\u001b[0m \u001b[0mcar\u001b[0m\u001b[0;34m.\u001b[0m\u001b[0mget_color\u001b[0m\u001b[0;34m(\u001b[0m\u001b[0;34m)\u001b[0m \u001b[0;34m==\u001b[0m \u001b[0;34m\"Black\"\u001b[0m\u001b[0;34m\u001b[0m\u001b[0;34m\u001b[0m\u001b[0m\n\u001b[1;32m     39\u001b[0m     \u001b[0;32massert\u001b[0m \u001b[0mcar\u001b[0m\u001b[0;34m.\u001b[0m\u001b[0mget_vin\u001b[0m\u001b[0;34m(\u001b[0m\u001b[0;34m)\u001b[0m \u001b[0;34m==\u001b[0m \u001b[0;36m12331314124133156\u001b[0m\u001b[0;34m\u001b[0m\u001b[0;34m\u001b[0m\u001b[0m\n\u001b[0;32m---> 40\u001b[0;31m     \u001b[0;32massert\u001b[0m \u001b[0mcar\u001b[0m\u001b[0;34m.\u001b[0m\u001b[0mget_seats\u001b[0m\u001b[0;34m(\u001b[0m\u001b[0;34m)\u001b[0m \u001b[0;34m==\u001b[0m \u001b[0;34m[\u001b[0m\u001b[0;34m\"Black\"\u001b[0m\u001b[0;34m,\u001b[0m \u001b[0;34m\"Blue\"\u001b[0m\u001b[0;34m,\u001b[0m\u001b[0;34m\"Red\"\u001b[0m\u001b[0;34m]\u001b[0m\u001b[0;34m\u001b[0m\u001b[0;34m\u001b[0m\u001b[0m\n\u001b[0m\u001b[1;32m     41\u001b[0m \u001b[0;34m\u001b[0m\u001b[0m\n\u001b[1;32m     42\u001b[0m     \u001b[0mprint\u001b[0m\u001b[0;34m(\u001b[0m\u001b[0;34m\"Everything passed for Car Inventory Class\"\u001b[0m\u001b[0;34m)\u001b[0m\u001b[0;34m\u001b[0m\u001b[0;34m\u001b[0m\u001b[0m\n",
            "\u001b[0;31mAssertionError\u001b[0m: "
          ]
        }
      ]
    },
    {
      "cell_type": "markdown",
      "metadata": {
        "id": "PRFeEynawXWK"
      },
      "source": [
        "As you could see, there is an error to my code. My code is case sensitive. Now, I know that and I should go ahead and use functions to make it case insensitive."
      ]
    },
    {
      "cell_type": "markdown",
      "metadata": {
        "id": "wTOMXlPqwhZp"
      },
      "source": [
        "Now, it is your turn to write down the test cases for your two classes. "
      ]
    },
    {
      "cell_type": "code",
      "metadata": {
        "id": "oC31GUQqwm6b"
      },
      "source": [
        "# Write your code here "
      ],
      "execution_count": null,
      "outputs": []
    },
    {
      "cell_type": "markdown",
      "metadata": {
        "id": "AtTSkvVkyQ3a"
      },
      "source": [
        "## Summary \n",
        "\n",
        "If you have successfully did all of the above, then you are done with almost everything for the project.\n",
        "\n",
        "After you are done, do the following to submit your code:\n",
        "1.   Copy your class that is similar to the car class into a python file. Name the file class_name.py, e.g., car.py\n",
        "2.   Copy the class similar to the CarInventory class into a python file. Name the file class_name.py, e.g., carinventory.py. When you copy the code, you would need to use the import statement to link the car and the carinventory files together. e.g., ```from car import Car```\n",
        "3.   Copy your test class into a python file with the name class_name.py, e.g., test.py. You will not be able to use this code until you use the import statement. e.g., ```from car import Car``` ```from carinventory import CarInventory```\n",
        "4.   Compile your code from the command line. Just type Python3 test_class.py, e.g., ```Python3 test.py```\n",
        "5.   Make sure your data file is in the same folder as the python code.\n",
        "6.   Take a screenshot of your command line after you compile your code.\n",
        "7.   Put all the above files into a folder, zip the folder, and submit the zipped file. Name the folder student_name_lab, e.g. **ayat_hatem_lab**\n",
        "\n",
        "\n",
        "\n",
        "\n",
        "\n",
        "\n",
        "\n",
        "\n",
        "\n"
      ]
    }
  ]
}