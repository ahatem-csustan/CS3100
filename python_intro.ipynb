{
  "nbformat": 4,
  "nbformat_minor": 0,
  "metadata": {
    "colab": {
      "name": "python_intro.ipynb",
      "provenance": [],
      "collapsed_sections": [],
      "authorship_tag": "ABX9TyPZPaOtgxuaoPXS8JRHwdbc",
      "include_colab_link": true
    },
    "kernelspec": {
      "name": "python3",
      "display_name": "Python 3"
    },
    "language_info": {
      "name": "python"
    }
  },
  "cells": [
    {
      "cell_type": "markdown",
      "metadata": {
        "id": "view-in-github",
        "colab_type": "text"
      },
      "source": [
        "<a href=\"https://colab.research.google.com/github/ahatem-csustan/CS3100/blob/main/python_intro.ipynb\" target=\"_parent\"><img src=\"https://colab.research.google.com/assets/colab-badge.svg\" alt=\"Open In Colab\"/></a>"
      ]
    },
    {
      "cell_type": "markdown",
      "metadata": {
        "id": "2wgrWi5IZSla"
      },
      "source": [
        "# CS3100 Python Tutorial in Google Colab\n",
        "\n",
        "This tutorial is written by Ayat Hatem for CS3100. It uses the tutorial written by  Justin Johnson as a reference: https://colab.research.google.com/github/cs231n/cs231n.github.io/blob/master/python-colab.ipynb#scrollTo=JjGnDluWL9gF\n",
        "\n",
        "This tutorial will cover the basic points we want to work with in Python. Other tutorials will cover the new concepts needed for the each step in the project.\n",
        "\n",
        "In this tutorial, we will cover the following:\n",
        "\n",
        "\n",
        "*   Python Basics: data types, lists, and loops\n",
        "*   Classes\n",
        "*   Inheritance\n",
        "\n"
      ]
    },
    {
      "cell_type": "markdown",
      "metadata": {
        "id": "CBvQqDxrfsXT"
      },
      "source": [
        "## Python Basics\n"
      ]
    },
    {
      "cell_type": "markdown",
      "metadata": {
        "id": "78PO-Q6SfxhE"
      },
      "source": [
        "### Python Data Types\n",
        "\n",
        "Python has the same data types as other languages. The only difference is that you do not have to specify the type explicitly. Python automatically detects it."
      ]
    },
    {
      "cell_type": "code",
      "metadata": {
        "colab": {
          "base_uri": "https://localhost:8080/"
        },
        "id": "xWfYdWvwgDYV",
        "outputId": "65672235-a5bf-434b-8fbc-3baca18128b4"
      },
      "source": [
        "x = 10\n",
        "print(type(x))\n",
        "\n",
        "y = \"Jack\"\n",
        "print(type(y))"
      ],
      "execution_count": 3,
      "outputs": [
        {
          "output_type": "stream",
          "name": "stdout",
          "text": [
            "<class 'int'>\n",
            "<class 'str'>\n"
          ]
        }
      ]
    },
    {
      "cell_type": "markdown",
      "metadata": {
        "id": "grnilY21gcGc"
      },
      "source": [
        "### Containers\n",
        "\n",
        "Python has many data structures and abstract data types built and ready for you to use. For example, list and dictionaries. \n"
      ]
    },
    {
      "cell_type": "markdown",
      "metadata": {
        "id": "O6Ds6ihvhGgi"
      },
      "source": [
        "####Lists\n",
        "\n",
        "One of the most important container classes in python is the list. A list acts similar to an array but that is automatically resized, similar to vectors in Java."
      ]
    },
    {
      "cell_type": "code",
      "metadata": {
        "colab": {
          "base_uri": "https://localhost:8080/"
        },
        "id": "oYlXvDQChXYI",
        "outputId": "08aa4ece-fcca-4b72-ed93-97480a4e5be5"
      },
      "source": [
        "xs = [1, 2, 3] #declaring a list of integers\n",
        "print(xs)"
      ],
      "execution_count": 4,
      "outputs": [
        {
          "output_type": "stream",
          "name": "stdout",
          "text": [
            "[1, 2, 3]\n"
          ]
        }
      ]
    },
    {
      "cell_type": "code",
      "metadata": {
        "colab": {
          "base_uri": "https://localhost:8080/"
        },
        "id": "VrZ-60UAhxAL",
        "outputId": "a67fc167-8fb2-438d-e125-0ed477bcf12b"
      },
      "source": [
        "print(xs[0]) #accessing the integer at index 0\n",
        "print(xs[0] + xs[-1]) #accessing the first element and the last element in the list"
      ],
      "execution_count": 6,
      "outputs": [
        {
          "output_type": "stream",
          "name": "stdout",
          "text": [
            "1\n",
            "4\n"
          ]
        }
      ]
    },
    {
      "cell_type": "code",
      "metadata": {
        "colab": {
          "base_uri": "https://localhost:8080/"
        },
        "id": "-oSLadD2iEPK",
        "outputId": "0b77b9be-fb15-4129-c241-c995cd797abd"
      },
      "source": [
        "xs[2] = \"foo\" # a list can contain elements of different types\n",
        "print(xs)"
      ],
      "execution_count": 7,
      "outputs": [
        {
          "output_type": "stream",
          "name": "stdout",
          "text": [
            "[1, 2, 'foo']\n"
          ]
        }
      ]
    },
    {
      "cell_type": "markdown",
      "metadata": {
        "id": "nSnwReOmione"
      },
      "source": [
        "### Loops\n",
        "\n",
        "You can loop through the elements in a list as follows:"
      ]
    },
    {
      "cell_type": "code",
      "metadata": {
        "colab": {
          "base_uri": "https://localhost:8080/"
        },
        "id": "gP-QyhdUiuNT",
        "outputId": "c980ebcf-e8ea-42d3-a8cd-e5f000e464ef"
      },
      "source": [
        "animals = [\"dog\", \"cat\", \"mouse\"] # creating a list of strings\n",
        "\n",
        "print(\"---First method:---\")\n",
        "for animal in animals: # looping through the list of animals\n",
        "  print(animal)\n",
        "\n"
      ],
      "execution_count": 12,
      "outputs": [
        {
          "output_type": "stream",
          "name": "stdout",
          "text": [
            "---First method:---\n",
            "dog\n",
            "cat\n",
            "mouse\n"
          ]
        }
      ]
    },
    {
      "cell_type": "markdown",
      "metadata": {
        "id": "SBd4N5dRjz37"
      },
      "source": [
        "Another method to access the elements in the list if you need to get the index of each element is to use the range function. "
      ]
    },
    {
      "cell_type": "code",
      "metadata": {
        "colab": {
          "base_uri": "https://localhost:8080/"
        },
        "id": "5ws7IjXUjxRK",
        "outputId": "2ae1fe04-2b89-4dd1-efbf-ca85678dd8a0"
      },
      "source": [
        "animals = [\"dog\", \"cat\", \"mouse\"] # creating a list of strings\n",
        "\n",
        "# another method for accessing the list\n",
        "# It creates a range of numbers based on the length of the list \n",
        "# then, accessing the list using the index of each element\n",
        "print(\"---Second method:---\")\n",
        "for i in range(len(animals)):  \n",
        "  print(animals[i])  "
      ],
      "execution_count": 13,
      "outputs": [
        {
          "output_type": "stream",
          "name": "stdout",
          "text": [
            "---Second method:---\n",
            "dog\n",
            "cat\n",
            "mouse\n"
          ]
        }
      ]
    },
    {
      "cell_type": "markdown",
      "metadata": {
        "id": "BTir19lpkEc4"
      },
      "source": [
        "A third method to access the elements and the index of the elements at the same time is the enumerate method. "
      ]
    },
    {
      "cell_type": "code",
      "metadata": {
        "colab": {
          "base_uri": "https://localhost:8080/"
        },
        "id": "d5p6XqgnkD5U",
        "outputId": "cdce8ad8-986c-4b0c-8541-c5b2280c392f"
      },
      "source": [
        "animals = [\"dog\", \"cat\", \"mouse\"] # creating a list of strings\n",
        "\n",
        "print(\"---Third method:---\")\n",
        "for idx, animal in enumerate(animals):\n",
        "    print('#{}: {}'.format(idx + 1, animal))"
      ],
      "execution_count": 14,
      "outputs": [
        {
          "output_type": "stream",
          "name": "stdout",
          "text": [
            "---Third method:---\n",
            "#1: dog\n",
            "#2: cat\n",
            "#3: mouse\n"
          ]
        }
      ]
    },
    {
      "cell_type": "markdown",
      "metadata": {
        "id": "96zr-oNQlAxz"
      },
      "source": [
        "### List comprehension \n",
        "\n",
        "Another way to loop through the list if you need to perform a specific operation on the elements is to use list comprehension. \n",
        "\n",
        "Let's have the following example. Let's say that you want to get all the elements in the list that are larger than 5.  "
      ]
    },
    {
      "cell_type": "code",
      "metadata": {
        "colab": {
          "base_uri": "https://localhost:8080/"
        },
        "id": "2jAUskWylRBy",
        "outputId": "72ebe489-754a-4940-c175-d1b5195f6264"
      },
      "source": [
        "nums = [10, 5, 15, 1, 2, 20]\n",
        "greater = []\n",
        "\n",
        "for n in nums:\n",
        "  if n > 5:\n",
        "    greater.append(n) # adding an element to the end of the greater list\n",
        "\n",
        "print(greater)    "
      ],
      "execution_count": 15,
      "outputs": [
        {
          "output_type": "stream",
          "name": "stdout",
          "text": [
            "[10, 15, 20]\n"
          ]
        }
      ]
    },
    {
      "cell_type": "markdown",
      "metadata": {
        "id": "YoyuJ6FGmYlN"
      },
      "source": [
        "You can use list comprehension instead: "
      ]
    },
    {
      "cell_type": "code",
      "metadata": {
        "colab": {
          "base_uri": "https://localhost:8080/"
        },
        "id": "YgQGPVIhmXyz",
        "outputId": "30e8180c-5a6b-45c8-bbf4-e5b01c906674"
      },
      "source": [
        "nums = [10, 5, 15, 1, 2, 20]\n",
        "greater = [x for x in nums if x > 5]\n",
        "print(greater)"
      ],
      "execution_count": 16,
      "outputs": [
        {
          "output_type": "stream",
          "name": "stdout",
          "text": [
            "[10, 15, 20]\n"
          ]
        }
      ]
    },
    {
      "cell_type": "markdown",
      "metadata": {
        "id": "C9qhEHKVm-Zn"
      },
      "source": [
        "### Classes"
      ]
    },
    {
      "cell_type": "markdown",
      "metadata": {
        "id": "il7bdFLOnBM-"
      },
      "source": [
        "Unlike Java or C++, Python is a script langauge and does not enforce any object oriented programming aspects nor function structure for your code to run. Nevertheless, you can still create classes and functions in Python. "
      ]
    },
    {
      "cell_type": "code",
      "metadata": {
        "colab": {
          "base_uri": "https://localhost:8080/"
        },
        "id": "Q-q711pynbme",
        "outputId": "7698b123-7d64-409a-f3db-8e69298008b2"
      },
      "source": [
        "class Person:\n",
        "  def __init__(self, fname, lname): # constructor in Python\n",
        "    self.fname = fname           # declaring lname as a public variable \n",
        "    self.lname = lname     # declaring fname as a public variable\n",
        "\n",
        "p1 = Person(\"Jack\", \"Martin\")\n",
        "# fname and lname can be directly access as they are public variables in python\n",
        "print(\"First name:\" + p1.fname + \"  Last name:\" + p1.lname)"
      ],
      "execution_count": 7,
      "outputs": [
        {
          "output_type": "stream",
          "name": "stdout",
          "text": [
            "First name:Jack  Last name:Jack\n"
          ]
        }
      ]
    },
    {
      "cell_type": "markdown",
      "metadata": {
        "id": "RmFTrGCR5ciM"
      },
      "source": [
        "You can also create private variables in Python. "
      ]
    },
    {
      "cell_type": "code",
      "metadata": {
        "colab": {
          "base_uri": "https://localhost:8080/",
          "height": 198
        },
        "id": "3qMTH4oB24HJ",
        "outputId": "1d5d10b9-de41-4990-da43-e06c794ffbc9"
      },
      "source": [
        "class Person:\n",
        "  def __init__(self, fname, lname): # constructor in Python\n",
        "    self.__fname = fname           # declaring lname as a public variable \n",
        "    self.__lname = lname     # declaring fname as a public variable\n",
        "\n",
        "p1 = Person(\"Jack\", \"Martin\")\n",
        "\n",
        "# this line will generate an error as fname and lname are private \n",
        "print(\"First name:\" + p1.__fname + \"  Last name:\" + p1.__lname)"
      ],
      "execution_count": 11,
      "outputs": [
        {
          "output_type": "error",
          "ename": "AttributeError",
          "evalue": "ignored",
          "traceback": [
            "\u001b[0;31m---------------------------------------------------------------------------\u001b[0m",
            "\u001b[0;31mAttributeError\u001b[0m                            Traceback (most recent call last)",
            "\u001b[0;32m<ipython-input-11-425592ff9e8f>\u001b[0m in \u001b[0;36m<module>\u001b[0;34m()\u001b[0m\n\u001b[1;32m      7\u001b[0m \u001b[0;34m\u001b[0m\u001b[0m\n\u001b[1;32m      8\u001b[0m \u001b[0;31m# this line will generate an error as fname and lname are private\u001b[0m\u001b[0;34m\u001b[0m\u001b[0;34m\u001b[0m\u001b[0;34m\u001b[0m\u001b[0m\n\u001b[0;32m----> 9\u001b[0;31m \u001b[0mprint\u001b[0m\u001b[0;34m(\u001b[0m\u001b[0;34m\"First name:\"\u001b[0m \u001b[0;34m+\u001b[0m \u001b[0mp1\u001b[0m\u001b[0;34m.\u001b[0m\u001b[0m__fname\u001b[0m \u001b[0;34m+\u001b[0m \u001b[0;34m\"  Last name:\"\u001b[0m \u001b[0;34m+\u001b[0m \u001b[0mp1\u001b[0m\u001b[0;34m.\u001b[0m\u001b[0m__lname\u001b[0m\u001b[0;34m)\u001b[0m\u001b[0;34m\u001b[0m\u001b[0;34m\u001b[0m\u001b[0m\n\u001b[0m",
            "\u001b[0;31mAttributeError\u001b[0m: 'Person' object has no attribute '__fname'"
          ]
        }
      ]
    },
    {
      "cell_type": "markdown",
      "metadata": {
        "id": "ZKBCSuK-6PY0"
      },
      "source": [
        "Private variables could still be accessed in Python by adding the name of the class in front of the variable name. "
      ]
    },
    {
      "cell_type": "code",
      "metadata": {
        "id": "LSkKtPcv7DUY"
      },
      "source": [
        "class Person:\n",
        "  def __init__(self, fname, lname): # constructor in Python\n",
        "    self.__fname = fname           # declaring lname as a public variable \n",
        "    self.__lname = lname     # declaring fname as a public variable\n",
        "\n",
        "p1 = Person(\"Jack\", \"Martin\")\n",
        "\n",
        "# adding the name of the class in front of the variable to access the private ones\n",
        "print(\"First name:\" + p1._Person__fname + \"  Last name:\" + p1._Person__lname)"
      ],
      "execution_count": null,
      "outputs": []
    },
    {
      "cell_type": "markdown",
      "metadata": {
        "id": "nEg0Ilea7R7f"
      },
      "source": [
        "However, for consistency with other languages, we will only access private variables using setters and getters functions"
      ]
    },
    {
      "cell_type": "code",
      "metadata": {
        "colab": {
          "base_uri": "https://localhost:8080/"
        },
        "id": "cFsGCXMG7Rfk",
        "outputId": "a1f18b3e-ef34-4911-d5c6-7cec34e7f95f"
      },
      "source": [
        "class Person:\n",
        "  def __init__(self, fname = None, lname = None): # constructor in Python\n",
        "    self.__fname = fname           # declaring lname as a public variable \n",
        "    self.__lname = lname     # declaring fname as a public variable\n",
        "\n",
        "  def set_fname(self, fname): # setting function for the first name\n",
        "    self.__fname = fname\n",
        "\n",
        "  def get_fname(self):\n",
        "    return self.__fname\n",
        "\n",
        "  def set_lname(self, lname):  # setting function for the last name\n",
        "    self.__lname = lname\n",
        "\n",
        "  def get_lname(self):\n",
        "    return self.__lname      \n",
        "\n",
        "p1 = Person() # calling the constructor without variables\n",
        "p1.set_fname(\"Jack\") \n",
        "p1.set_lname(\"Martin\")\n",
        "\n",
        "# adding the name of the class in front of the variable to access the private ones\n",
        "print(\"First name:\" + p1.get_fname() + \"  Last name:\" + p1.get_lname())"
      ],
      "execution_count": 14,
      "outputs": [
        {
          "output_type": "stream",
          "name": "stdout",
          "text": [
            "First name:Jack  Last name:Martin\n"
          ]
        }
      ]
    },
    {
      "cell_type": "markdown",
      "metadata": {
        "id": "udQYlbIi-z_d"
      },
      "source": [
        "### Inheritance \n",
        "\n",
        "Python allows inheritance. You can also inherit from mulitple classes."
      ]
    },
    {
      "cell_type": "code",
      "metadata": {
        "colab": {
          "base_uri": "https://localhost:8080/"
        },
        "id": "n-3Ro5vq_OVx",
        "outputId": "fe6ff422-367b-4243-db91-1fb8973a09df"
      },
      "source": [
        "class Person:\n",
        "  def __init__(self, fname = None, lname = None): # constructor in Python\n",
        "    self.__fname = fname           # declaring lname as a public variable \n",
        "    self.__lname = lname     # declaring fname as a public variable\n",
        "\n",
        "  def set_fname(self, fname): # setting function for the first name\n",
        "    self.__fname = fname\n",
        "\n",
        "  def get_fname(self):\n",
        "    return self.__fname\n",
        "\n",
        "  def set_lname(self, lname):  # setting function for the last name\n",
        "    self.__lname = lname\n",
        "\n",
        "  def get_lname(self):\n",
        "    return self.__lname     \n",
        "\n",
        "# Creating an empty class and using all functionatlities from the parent class\n",
        "class Student(Person):\n",
        "  pass  # pass keyword means that the class is empty \n",
        "\n",
        "s1 = Student()\n",
        "s1.set_fname(\"Amy\")\n",
        "s1.set_lname(\"John\")\n",
        "\n",
        "print(\"Student's First name:\" + s1.get_fname() + \"  Student's Last name:\" + s1.get_lname())"
      ],
      "execution_count": 16,
      "outputs": [
        {
          "output_type": "stream",
          "name": "stdout",
          "text": [
            "Student's First name:Amy  Student's Last name:John\n"
          ]
        }
      ]
    },
    {
      "cell_type": "markdown",
      "metadata": {
        "id": "p1Uv1732A9-Y"
      },
      "source": [
        "The student class can have its own constructor and private attributes."
      ]
    },
    {
      "cell_type": "code",
      "metadata": {
        "colab": {
          "base_uri": "https://localhost:8080/"
        },
        "id": "nKQFTIR3BC7Y",
        "outputId": "ca9634b4-1180-4e78-946a-59fbfe4a80c3"
      },
      "source": [
        "class Person:\n",
        "  def __init__(self, fname = None, lname = None): # constructor in Python\n",
        "    self.__fname = fname           # declaring lname as a public variable \n",
        "    self.__lname = lname     # declaring fname as a public variable\n",
        "\n",
        "  def set_fname(self, fname): # setting function for the first name\n",
        "    self.__fname = fname\n",
        "\n",
        "  def get_fname(self):\n",
        "    return self.__fname\n",
        "\n",
        "  def set_lname(self, lname):  # setting function for the last name\n",
        "    self.__lname = lname\n",
        "\n",
        "  def get_lname(self):\n",
        "    return self.__lname     \n",
        "\n",
        "\n",
        "# Student class inherting from the parent person class\n",
        "class Student(Person):\n",
        "\n",
        "  def __init__(self, fname, lname, id): # constructor for the student class\n",
        "    self.__id = id\n",
        "    super().__init__(fname, lname) # calling the constructor for the parent class\n",
        "\n",
        "\n",
        "  def set_id(self, id): # defining a settr for the id \n",
        "    self.__id = id\n",
        "\n",
        "  def get_id(self): # defining a getter for the id\n",
        "    return self.__id  \n",
        "\n",
        "\n",
        "s1 = Student(\"Amy\", \"John\" , 5143015)\n",
        "\n",
        "print(\"Student's First name:\" + s1.get_fname()) # calling the fname getter from the parent class\n",
        "print(\"Student's Last name:\" + s1.get_lname()) # calling the lname getter from the parent class\n",
        "print(\"Student's id: \" + str(s1.get_id()))"
      ],
      "execution_count": 20,
      "outputs": [
        {
          "output_type": "stream",
          "name": "stdout",
          "text": [
            "Student's First name:Amy\n",
            "Student's Last name:John\n",
            "Student's id: 5143015\n"
          ]
        }
      ]
    }
  ]
}