{
  "nbformat": 4,
  "nbformat_minor": 0,
  "metadata": {
    "colab": {
      "name": "lab_step8.ipynb",
      "provenance": [],
      "collapsed_sections": [],
      "authorship_tag": "ABX9TyOApoOGpWkk0NlJpbeI/WwW",
      "include_colab_link": true
    },
    "kernelspec": {
      "name": "python3",
      "display_name": "Python 3"
    },
    "language_info": {
      "name": "python"
    }
  },
  "cells": [
    {
      "cell_type": "markdown",
      "metadata": {
        "id": "view-in-github",
        "colab_type": "text"
      },
      "source": [
        "<a href=\"https://colab.research.google.com/github/ahatem-csustan/CS3100/blob/main/lab_step8.ipynb\" target=\"_parent\"><img src=\"https://colab.research.google.com/assets/colab-badge.svg\" alt=\"Open In Colab\"/></a>"
      ]
    },
    {
      "cell_type": "markdown",
      "metadata": {
        "id": "oCG8s2t0oLNT"
      },
      "source": [
        "# Step8: Example Project Continued\n",
        "\n",
        "In this lab, we will continue working on the project. The lab will go over the Car Inventory system to guide you through building your system.\n",
        "\n",
        "## Problem Description\n",
        "\n",
        "In this step, we are further investigating how the car dealer can improve his system and make it faster. He dug deeper into data structures and learned about hash tables that would allow his code to be faster. \n",
        "\n",
        "In the following, we will go over the steps need to adjust the system to work with another version of the Dictionary ADT."
      ]
    },
    {
      "cell_type": "markdown",
      "metadata": {
        "id": "T4DQzlr7pbWQ"
      },
      "source": [
        "## Hash Table based Dictionary\n",
        "\n",
        "First step is to learn how a hash table works. The hash table can be implemented in many different ways. In our implementation, we will consider the following:\n",
        "*   Simple hash functions, e.g., mod for integers\n",
        "*   Collision will be handled using Open Hashing\n",
        "*   You can choose any length for your hash table\n"
      ]
    },
    {
      "cell_type": "markdown",
      "metadata": {
        "id": "cVjRZt4ds_GB"
      },
      "source": [
        "Based on that, we could go ahead and start implementing our ```HTDict```\n",
        "\n",
        "Here is our ```Dictionary Abstract Class``` (You can use your own Abstract Dictionary Class)"
      ]
    },
    {
      "cell_type": "code",
      "metadata": {
        "id": "U1Yl_jl5tivW"
      },
      "source": [
        "from abc import abstractmethod\n",
        "from abc import ABC, abstractmethod\n",
        "\n",
        "# Dictionary Abstract class\n",
        "class DictAbstract(ABC):\n",
        "\n",
        "  #Return the number of items stored in the dictionary\n",
        "  @abstractmethod\n",
        "  def __len__(self):\n",
        "    pass\n",
        "\n",
        "  #Implementing the python magic method __contains__\n",
        "  #This will help to use in true or false sentences\n",
        "  #e.g., if key is in dict\n",
        "  @abstractmethod\n",
        "  def __contains__(self, key):\n",
        "    pass\n",
        "\n",
        "  #Implementing the python magic method __getitem__\n",
        "  #This function will help in using this sytax dict[key]\n",
        "  @abstractmethod\n",
        "  def __getitem__(self, key):  \n",
        "    pass\n",
        "\n",
        "  #Implements self[key] = value.  If key is already stored in\n",
        "  #the dictionary then its value is modified.  If key is not in the map,\n",
        "  #it is added.\n",
        "  @abstractmethod\n",
        "  def __setitem__(self, key, value):\n",
        "    pass\n",
        "\n",
        "\n",
        "  #Remove a node from the tree with the indicated key\n",
        "  #Return the value after removing the node\n",
        "  #Raise a KeyError if the key is not in the map.\"\n",
        "  @abstractmethod\n",
        "  def pop(self, key):\n",
        "    pass"
      ],
      "execution_count": null,
      "outputs": []
    },
    {
      "cell_type": "markdown",
      "metadata": {
        "id": "ZXLqRYZAtu1h"
      },
      "source": [
        "Then, we need to implement the ```HTDict``` that inherits from the abstract class"
      ]
    },
    {
      "cell_type": "code",
      "metadata": {
        "id": "3SYGMaL8oDtk"
      },
      "source": [
        "class HTDict(DictAbstract):"
      ],
      "execution_count": null,
      "outputs": []
    },
    {
      "cell_type": "markdown",
      "metadata": {
        "id": "pOw6-fSCuO8z"
      },
      "source": [
        "This class will implement all the functions we have in the abstract class. Additionally, it will have to add another function, ```hashfunction``` that takes the ```key``` as input and returns back the ```index``` of the ```key``` in the hash table. Remember that the ```hash table``` will store the key-value pair and not only the ```key```. The ```key``` is used to determine where to store the pair. "
      ]
    },
    {
      "cell_type": "code",
      "metadata": {
        "id": "7fGJr5kwun8t"
      },
      "source": [
        "class HTDict(DictAbstract):\n",
        "  \n",
        "  def __init__(self, size = 20):\n",
        "    self.hash_table = []\n",
        "    self.size = size\n",
        "\n",
        "  # Takes the key as input and returns back the index for that specif key in the hash table\n",
        "  def hashfunction(self, key):\n",
        "    pass  "
      ],
      "execution_count": null,
      "outputs": []
    },
    {
      "cell_type": "markdown",
      "metadata": {
        "id": "NC6M4P22vLo5"
      },
      "source": [
        "Now, you could go ahead and implement the hash function that you will determine what it is based on the type of the used ```key```. Additionally, you would need to implement all of the functions in the abstract class.\n",
        "\n",
        "Afterwads, you could go ahead and implement a new version of the ```Car Inventory``` class that uses the ```HTDict``` class."
      ]
    },
    {
      "cell_type": "code",
      "metadata": {
        "id": "tANq3S9AvsA-"
      },
      "source": [
        "# CarInventoryHTDict: inherits from CarInventoryDict\n",
        "# all functions are staying the same\n",
        "# only need to redefine the __init__ function to use the new HTDict instead of BSTDict\n",
        "class CarInventoryHTDict(CarInventoryDict):\n",
        "  def __init__(self):\n",
        "    self.__car_dict = HTDict()"
      ],
      "execution_count": null,
      "outputs": []
    }
  ]
}