{
  "nbformat": 4,
  "nbformat_minor": 0,
  "metadata": {
    "colab": {
      "name": "abstract_classes_python.ipynb",
      "provenance": [],
      "collapsed_sections": [],
      "authorship_tag": "ABX9TyPwiafOlVsoPD5Z/uvz3Jua",
      "include_colab_link": true
    },
    "kernelspec": {
      "name": "python3",
      "display_name": "Python 3"
    },
    "language_info": {
      "name": "python"
    }
  },
  "cells": [
    {
      "cell_type": "markdown",
      "metadata": {
        "id": "view-in-github",
        "colab_type": "text"
      },
      "source": [
        "<a href=\"https://colab.research.google.com/github/ahatem-csustan/CS3100/blob/main/abstract_classes_python.ipynb\" target=\"_parent\"><img src=\"https://colab.research.google.com/assets/colab-badge.svg\" alt=\"Open In Colab\"/></a>"
      ]
    },
    {
      "cell_type": "markdown",
      "metadata": {
        "id": "VJ8IFHrJFQAI"
      },
      "source": [
        "# Abstract Classes \n",
        "\n",
        "In this tutorial, we will cover the following concepts:\n",
        "\n",
        "\n",
        "*   What is an abstract class\n",
        "*   How to implement an abstract class\n",
        "*   Inhertiance from abstract class\n",
        "\n",
        "## Introduction:\n",
        "\n",
        "An abstract class acts like a blueprint for other classes. An absract class is constructed when you have one or more abstract functions inside a class. An abstract function is a function that does not have an implementation. The function is not implemented as the implementation could change based on the inheriting class. \n",
        "\n",
        "Abstract classes may not be instantiated, and its abstract methods must be implemented by its subclasses."
      ]
    },
    {
      "cell_type": "markdown",
      "metadata": {
        "id": "O6u6asULGpIT"
      },
      "source": [
        "## Abstract Class Implementation:\n",
        "\n",
        "To declare that a class is an abstract one, it needs to inherit from the Abstract Base Class (ABC)"
      ]
    },
    {
      "cell_type": "code",
      "metadata": {
        "id": "uAavtTviFLSz"
      },
      "source": [
        "\n",
        "from abc import ABC, abstractmethod\n",
        "\n",
        "# Shape is an abstract class, it inherits from ABC\n",
        "class Shape (ABC):\n",
        "\n",
        "  @abstractmethod\n",
        "  def area(self): # cannot implement area function yet as it is different per class\n",
        "    pass\n",
        "\n"
      ],
      "execution_count": 1,
      "outputs": []
    },
    {
      "cell_type": "markdown",
      "metadata": {
        "id": "HMirUsFTFUqg"
      },
      "source": [
        "You cannot make an instance of an abstract class."
      ]
    },
    {
      "cell_type": "code",
      "metadata": {
        "colab": {
          "base_uri": "https://localhost:8080/",
          "height": 198
        },
        "id": "TeS4JbFeFYL4",
        "outputId": "7725f22d-6975-4f5d-a2c0-c865cfc3c68b"
      },
      "source": [
        "from abc import ABC, abstractmethod\n",
        "\n",
        "# Shape is an abstract class, it inherits from ABC\n",
        "class Shape (ABC):\n",
        "\n",
        "  @abstractmethod\n",
        "  def area(self): # cannot implement area function yet as it is different per class\n",
        "    pass\n",
        "\n",
        "\n",
        "if __name__ == '__main__':\n",
        "  s = Shape() # Generates an error   "
      ],
      "execution_count": 6,
      "outputs": [
        {
          "output_type": "error",
          "ename": "TypeError",
          "evalue": "ignored",
          "traceback": [
            "\u001b[0;31m---------------------------------------------------------------------------\u001b[0m",
            "\u001b[0;31mTypeError\u001b[0m                                 Traceback (most recent call last)",
            "\u001b[0;32m<ipython-input-6-6032e511abb0>\u001b[0m in \u001b[0;36m<module>\u001b[0;34m()\u001b[0m\n\u001b[1;32m     10\u001b[0m \u001b[0;34m\u001b[0m\u001b[0m\n\u001b[1;32m     11\u001b[0m \u001b[0;32mif\u001b[0m \u001b[0m__name__\u001b[0m \u001b[0;34m==\u001b[0m \u001b[0;34m'__main__'\u001b[0m\u001b[0;34m:\u001b[0m\u001b[0;34m\u001b[0m\u001b[0;34m\u001b[0m\u001b[0m\n\u001b[0;32m---> 12\u001b[0;31m   \u001b[0ms\u001b[0m \u001b[0;34m=\u001b[0m \u001b[0mShape\u001b[0m\u001b[0;34m(\u001b[0m\u001b[0;34m)\u001b[0m \u001b[0;31m# Generates an error\u001b[0m\u001b[0;34m\u001b[0m\u001b[0;34m\u001b[0m\u001b[0m\n\u001b[0m",
            "\u001b[0;31mTypeError\u001b[0m: Can't instantiate abstract class Shape with abstract methods area"
          ]
        }
      ]
    },
    {
      "cell_type": "markdown",
      "metadata": {
        "id": "jqImV6CKFiy-"
      },
      "source": [
        "An abstract class can have a constructor function but we need to declare it abstract. If the constructor is not declared abstract, you can make an instance of the class in thta class (Give it a try!) "
      ]
    },
    {
      "cell_type": "code",
      "metadata": {
        "colab": {
          "base_uri": "https://localhost:8080/",
          "height": 198
        },
        "id": "LUcEc2fRFnHC",
        "outputId": "de543860-e456-4b4a-ea44-9707761714be"
      },
      "source": [
        "from abc import ABC, abstractmethod\n",
        "\n",
        "# Shape is an abstract class, it inherits from ABC\n",
        "class Shape (ABC):\n",
        "\n",
        "  # A constructor for the shape class \n",
        "  # Can be used if you have a variable that will be needed by all children classes\n",
        "  @abstractmethod\n",
        "  def __init__(self, name): \n",
        "    self.__name = name  \n",
        "\n",
        "  @abstractmethod\n",
        "  def area(self): # cannot implement area function yet as it is different per class\n",
        "    pass\n",
        "\n",
        "\n",
        "if __name__ == '__main__':\n",
        "  s = Shape(\"Circle\")"
      ],
      "execution_count": 7,
      "outputs": [
        {
          "output_type": "error",
          "ename": "TypeError",
          "evalue": "ignored",
          "traceback": [
            "\u001b[0;31m---------------------------------------------------------------------------\u001b[0m",
            "\u001b[0;31mTypeError\u001b[0m                                 Traceback (most recent call last)",
            "\u001b[0;32m<ipython-input-7-aabf637da306>\u001b[0m in \u001b[0;36m<module>\u001b[0;34m()\u001b[0m\n\u001b[1;32m     14\u001b[0m \u001b[0;34m\u001b[0m\u001b[0m\n\u001b[1;32m     15\u001b[0m \u001b[0;32mif\u001b[0m \u001b[0m__name__\u001b[0m \u001b[0;34m==\u001b[0m \u001b[0;34m'__main__'\u001b[0m\u001b[0;34m:\u001b[0m\u001b[0;34m\u001b[0m\u001b[0;34m\u001b[0m\u001b[0m\n\u001b[0;32m---> 16\u001b[0;31m   \u001b[0ms\u001b[0m \u001b[0;34m=\u001b[0m \u001b[0mShape\u001b[0m\u001b[0;34m(\u001b[0m\u001b[0;34m\"Circle\"\u001b[0m\u001b[0;34m)\u001b[0m\u001b[0;34m\u001b[0m\u001b[0;34m\u001b[0m\u001b[0m\n\u001b[0m",
            "\u001b[0;31mTypeError\u001b[0m: Can't instantiate abstract class Shape with abstract methods __init__, area"
          ]
        }
      ]
    },
    {
      "cell_type": "markdown",
      "metadata": {
        "id": "1cMZGujVKyYe"
      },
      "source": [
        "The implementation of the area function is different per shape type. Therefore, it is better to make it an abstract function. \n",
        "\n",
        "The child class or the grandchild class will implement the area function."
      ]
    },
    {
      "cell_type": "code",
      "metadata": {
        "colab": {
          "base_uri": "https://localhost:8080/"
        },
        "id": "lTgwQVK7ESKa",
        "outputId": "9fc99100-1f2c-42e7-ce03-ab476e2ceabe"
      },
      "source": [
        "from abc import ABC, abstractmethod\n",
        "\n",
        "# Shape is an abstract class, it inherits from ABC\n",
        "class Shape (ABC):\n",
        "\n",
        "  @abstractmethod\n",
        "  def __init__(self, name): \n",
        "    self.__name = name  \n",
        "\n",
        "\n",
        "  @abstractmethod\n",
        "  def area(self): # cannot implement area function yet as it is different per class\n",
        "    pass\n",
        "\n",
        "# Circle inherits from shape and implements the area function\n",
        "class Circle (Shape):\n",
        "\n",
        "  def __init__(self, radius, name):\n",
        "    self.__radius = radius\n",
        "    super().__init__(name) # Calling the constructor from the parent class \n",
        "\n",
        "  def area(self): # Abstract function implementation\n",
        "    PI = 3.14\n",
        "    return PI*self.__radius*self.__radius \n",
        "\n",
        "if __name__ == '__main__':\n",
        "\n",
        "  c = Circle(4, \"circle\")\n",
        "  print(\"area = \" + str(c.area()))\n"
      ],
      "execution_count": 8,
      "outputs": [
        {
          "output_type": "stream",
          "name": "stdout",
          "text": [
            "area = 50.24\n"
          ]
        }
      ]
    },
    {
      "cell_type": "markdown",
      "metadata": {
        "id": "lXBpBsQXHBB0"
      },
      "source": [
        "You can have as well an abstract class inherits from another abstract class. "
      ]
    },
    {
      "cell_type": "code",
      "metadata": {
        "colab": {
          "base_uri": "https://localhost:8080/"
        },
        "id": "Ol5gSNXJHAut",
        "outputId": "82d4b766-7d90-48e4-b2ae-40640b772bf2"
      },
      "source": [
        "from abc import ABC, abstractmethod\n",
        "\n",
        "# Shape is an abstract class, it inherits from ABC\n",
        "class Shape (ABC):\n",
        "\n",
        "  @abstractmethod\n",
        "  def __init__(self, name): \n",
        "    self.__name = name  \n",
        "\n",
        "\n",
        "  @abstractmethod\n",
        "  def area(self): # cannot implement area function yet as it is different per class\n",
        "    pass\n",
        "\n",
        "\n",
        "# Polygan is an abstract class that inherits from the shape abstract class\n",
        "class Polygan (Shape):\n",
        "\n",
        "  @abstractmethod\n",
        "  def __init__(self, no_sides, name):\n",
        "    self.__no_sides = no_sides \n",
        "    super().__init__(\"name\")\n",
        "\n",
        "\n",
        "# Triangle inherits from Polygan and implements the abstract functions in the \n",
        "# parent classes\n",
        "class Triangle (Polygan):\n",
        "\n",
        "  def __init__(self, height, base):\n",
        "    self.__height = height \n",
        "    self.__base = base\n",
        "    super().__init__(3, \"triangle\") \n",
        "\n",
        "  def area(self): # Implementation of the abstract function from the shape class\n",
        "    return self.__height*self.__base/2\n",
        "\n",
        "\n",
        "if __name__ == '__main__':\n",
        "  t = Triangle(14, 10)\n",
        "  print(\"area = \" + str(t.area()))\n",
        "\n",
        "\n"
      ],
      "execution_count": 9,
      "outputs": [
        {
          "output_type": "stream",
          "name": "stdout",
          "text": [
            "area = 70.0\n"
          ]
        }
      ]
    },
    {
      "cell_type": "markdown",
      "metadata": {
        "id": "xvk69QbaJeJm"
      },
      "source": [
        "## Summary\n",
        "\n",
        "In this tutorial, we talked about abstract class, what they are, and when to use them. You do not always need them. **The basic guide**: **if the function implementation changes per child class, then make the function an abstract one.** "
      ]
    }
  ]
}