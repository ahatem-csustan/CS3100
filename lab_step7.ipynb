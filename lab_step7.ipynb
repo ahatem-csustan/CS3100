{
  "nbformat": 4,
  "nbformat_minor": 0,
  "metadata": {
    "colab": {
      "name": "lab_step7.ipynb",
      "provenance": [],
      "collapsed_sections": [],
      "authorship_tag": "ABX9TyPtQLsJpZmGnDx8PLPqQt7b",
      "include_colab_link": true
    },
    "kernelspec": {
      "name": "python3",
      "display_name": "Python 3"
    },
    "language_info": {
      "name": "python"
    }
  },
  "cells": [
    {
      "cell_type": "markdown",
      "metadata": {
        "id": "view-in-github",
        "colab_type": "text"
      },
      "source": [
        "<a href=\"https://colab.research.google.com/github/ahatem-csustan/CS3100/blob/main/lab_step7.ipynb\" target=\"_parent\"><img src=\"https://colab.research.google.com/assets/colab-badge.svg\" alt=\"Open In Colab\"/></a>"
      ]
    },
    {
      "cell_type": "markdown",
      "metadata": {
        "id": "esjMG8lSFlHQ"
      },
      "source": [
        "# Lab Step7: Example Project Continued\n",
        "In this lab, we will continue working on the project. The lab will go over the Car Inventory system to guide you through building your system.\n",
        "\n",
        "## Problem Description\n",
        "\n",
        "The car dealer decided to further work on his system to improve it. He wants to compare between the different implementations for the dictionary class to see which implementation would be faster. One possible improvements would be to use a sorted list to main the dictionary sorted to help it run faster.\n",
        "\n",
        "In the following, we will go over the steps need to adjust the system to work with another version of the Dictionary ADT."
      ]
    },
    {
      "cell_type": "markdown",
      "metadata": {
        "id": "_Rmbba5NGziv"
      },
      "source": [
        "## Current System\n",
        "\n",
        "So far, we have the following classes implemented (refer to the previous labs for more infomration about those classes)."
      ]
    },
    {
      "cell_type": "code",
      "metadata": {
        "id": "8IuZHhtrFij-"
      },
      "source": [
        "### YOU CAN RUN AND COMPILE THIS CODE ####\n",
        "\n",
        "# Car class: Representing a single car object\n",
        "# Holds information about a single car\n",
        "class Car: \n",
        "\n",
        "  def __init__(self): # constructor\n",
        "    self.__vin = 0\n",
        "    self.__model = \"\"\n",
        "    self.__make = \"\"\n",
        "    self.__list_seats = []\n",
        "    self.__color = \"\"\n",
        "\n",
        "  def get_vin(self):\n",
        "    return self.__vin \n",
        "\n",
        "  def set_vin(self, vin):\n",
        "    assert vin > 0 # check if the vin is less than zero\n",
        "    self.__vin = vin\n",
        "\n",
        "  def get_model(self):\n",
        "    return self.__model\n",
        "\n",
        "  def set_model(self, model):\n",
        "    self.__model = model\n",
        "\n",
        "  def get_make(self):\n",
        "    return self.__make \n",
        "\n",
        "  def set_make(self, make):\n",
        "    self.__make = make \n",
        "\n",
        "  def get_color(self):\n",
        "    return self.__color\n",
        "\n",
        "  def set_color(self, color):\n",
        "    self.__color = color \n",
        "\n",
        "  def add_seat(self, seat): # adding a seat to the list of seats\n",
        "    self.__list_seats.append(seat) \n",
        "\n",
        "  def get_seats(self): # returning the complete list of seats\n",
        "    return self.__list_seats                     \n",
        "\n",
        "\n",
        "  def __str__(self): # adding a magic method to be able to print the car information\n",
        "    line =  \"Model: \" + self.__model + \" Make:\" + self.__make + \" Color: \" + self.__color \n",
        "    return line"
      ],
      "execution_count": 2,
      "outputs": []
    },
    {
      "cell_type": "code",
      "metadata": {
        "id": "VPtaVsJsH2_Z"
      },
      "source": [
        "from abc import abstractmethod\n",
        "from abc import ABC, abstractmethod\n",
        "\n",
        "# Dictionary Abstract class\n",
        "class DictAbstract(ABC):\n",
        "\n",
        "  #Return the number of items stored in the dictionary\n",
        "  @abstractmethod\n",
        "  def __len__(self):\n",
        "    pass\n",
        "\n",
        "  #Implementing the python magic method __contains__\n",
        "  #This will help to use in true or false sentences\n",
        "  #e.g., if key is in dict\n",
        "  @abstractmethod\n",
        "  def __contains__(self, key):\n",
        "    pass\n",
        "\n",
        "  #Implementing the python magic method __getitem__\n",
        "  #This function will help in using this sytax dict[key]\n",
        "  @abstractmethod\n",
        "  def __getitem__(self, key):  \n",
        "    pass\n",
        "\n",
        "  #Implements self[key] = value.  If key is already stored in\n",
        "  #the dictionary then its value is modified.  If key is not in the map,\n",
        "  #it is added.\n",
        "  @abstractmethod\n",
        "  def __setitem__(self, key, value):\n",
        "    pass\n",
        "\n",
        "\n",
        "  #Remove a node from the tree with the indicated key\n",
        "  #Return the value after removing the node\n",
        "  #Raise a KeyError if the key is not in the map.\"\n",
        "  @abstractmethod\n",
        "  def pop(self, key):\n",
        "    pass"
      ],
      "execution_count": 3,
      "outputs": []
    },
    {
      "cell_type": "code",
      "metadata": {
        "id": "NRx5naR5H7j8"
      },
      "source": [
        "### COMPILE AND RUN THIS CODE ###\n",
        "\n",
        "\"\"\"\n",
        "Dictionary implementation using Binary Search Trees\n",
        "Some of the codes here are adapted from:\n",
        "https://w3.cs.jmu.edu/spragunr/CS240_F12/lectures/maps/bst_map.py\n",
        "\n",
        "Modifications by: Ayat Hatem Oct. 2020\n",
        "\"\"\"\n",
        "#Declaring a private node class\n",
        "class _BSTNode:\n",
        "\n",
        "    def __init__(self, key, value):\n",
        "        self.key = key\n",
        "        self.value = value\n",
        "        self.left = None\n",
        "        self.right = None\n",
        "\n",
        "    #Definiting our print format. Now we can call\n",
        "    #print(Node)\n",
        "    def __str__(self):\n",
        "        return str(self.key) + \": \" + str(self.value)\n",
        "\n",
        "#Implementing a dictionary using a binary search tree\n",
        "class BSTDict:\n",
        "\n",
        "    def __init__(self):\n",
        "        #Constructing an empty Dict\n",
        "        self._root = None\n",
        "        self._size = 0\n",
        "\n",
        "    def __len__(self):\n",
        "        #Return the number of items stored in the dictionary\n",
        "        return self._size\n",
        "\n",
        "    #Implementing the python magic method __contains__\n",
        "    #This will help to use in true or false sentences\n",
        "    #e.g., if key is in dict\n",
        "    def __contains__(self, key):\n",
        "        #Return true if key is in the dictionary, False otherwise\n",
        "        return not self._find(self._root, key) is None\n",
        "\n",
        "    #Implementing the python magic method __getitem__\n",
        "    #This function will help in using this sytax dict[key]\n",
        "    def __getitem__(self, key):\n",
        "        #Given a key, return the coresponding value. Raises a KeyError\n",
        "        #if key is not in the map.\n",
        "        #dict[4]\n",
        "        node = self._find(self._root, key)\n",
        "        if node == None:\n",
        "            raise KeyError(\"Item does not exist\")\n",
        "        return node.value\n",
        "\n",
        "    #Internal function that looks for the node with\n",
        "    #the given specified value\n",
        "    def _find(self, node, key):\n",
        "        #This is a recursive function that recursively Search\n",
        "        #through the binary tree to find the key-value pair\n",
        "        #with the specified given key\n",
        "        #IF the key is found, return the node with the given key\n",
        "        if node is None:\n",
        "            return None\n",
        "        if key == node.key:\n",
        "            return node\n",
        "        if key < node.key:\n",
        "            return self._find(node.left, key)\n",
        "        elif key > node.key:\n",
        "            return self._find(node.right, key)\n",
        "\n",
        "\n",
        "    def __setitem__(self, key, value):\n",
        "        #Implements self[key] = value.  If key is already stored in\n",
        "        #the dictionary then its value is modified.  If key is not in the map,\n",
        "        #it is added.\n",
        "        if self._root == None:\n",
        "            self._root = _BSTNode(key, value)\n",
        "            self._size += 1\n",
        "        else:\n",
        "            self._insert(self._root, key, value)\n",
        "\n",
        "\n",
        "    #Internal function to insert a key-value pair into the dictionary\n",
        "    def _insert(self, node, key, value):\n",
        "        # If a matching key found, then update the value\n",
        "        if node.key == key:\n",
        "            node.value = value\n",
        "\n",
        "        # If the matching key is smaller, then look in\n",
        "        # the left subtree\n",
        "        elif key < node.key:\n",
        "            if node.left is not None:\n",
        "                self._insert(node.left, key, value)\n",
        "            else:\n",
        "                node.left = _BSTNode(key, value)\n",
        "                self._size += 1\n",
        "        # If the matching key is larger, then look in the\n",
        "        # right subtree\n",
        "        else:\n",
        "            if node.right is not None:\n",
        "                self._insert(node.right, key, value)\n",
        "            else:\n",
        "                node.right = _BSTNode(key, value)\n",
        "                self._size += 1\n",
        "\n",
        "    #Remove a node from the tree with the indicated key\n",
        "    #Return the value after removing the node\n",
        "    #Raise a KeyError if the key is not in the map.\"\n",
        "    def pop(self, key):\n",
        "\n",
        "        #Calling the __getitem__ function to get the value\n",
        "        #If the entry with the given key\n",
        "        value = self[key]\n",
        "        self._root = self._remove(self._root, key)\n",
        "        self._size -= 1\n",
        "        return value\n",
        "\n",
        "    #Internal helper function that recursively search for the node\n",
        "    #with the given key. If the key does not exist, then raise an\n",
        "    #exception\n",
        "    def _remove(self, node, key):\n",
        "\n",
        "        # Key is not found, raise an exception\n",
        "        assert node is not None, \"Cannot remove non-existent key.\"\n",
        "\n",
        "        # If key is smaller, then go to the left tree\n",
        "        if key < node.key:\n",
        "            node.left = self._remove(node.left, key)\n",
        "\n",
        "        # IF data is larger, go to the right tree\n",
        "        elif key > node.key:\n",
        "            node.right = self._remove(node.right, key)\n",
        "\n",
        "        # key is found\n",
        "        else:\n",
        "            # Empty left side\n",
        "            if node.left is None:\n",
        "                temp = node.right\n",
        "                node = None\n",
        "                return temp\n",
        "            # Empty right child\n",
        "            elif node.right is None:\n",
        "                temp = node.left\n",
        "                node = None\n",
        "                return temp\n",
        "            # Has two children\n",
        "            # Find the inorder successor and replace it\n",
        "            # with the node\n",
        "            temp = self._min_value_node(node.right)\n",
        "            node.key = temp.key\n",
        "            node.value = temp.value\n",
        "            #Delete the inorder successor after swapping\n",
        "            node.right = self._remove(node.right, node.key)\n",
        "\n",
        "        return node\n",
        "\n",
        "    # Internal helper function that looks for the smallest successor key\n",
        "    def _min_value_node(self, node):\n",
        "        current = node\n",
        "        while (current.left is not None):\n",
        "            current = current.left\n",
        "        return current\n",
        "\n",
        "    # Inorder traversal to print the tree\n",
        "    # There is a better way of implementing a print function\n",
        "    # through using iterators. This part is more advanced\n",
        "    # Will use a simple print function that loops through the tree\n",
        "    def print_tree(self):\n",
        "        if self._root is not None:\n",
        "            self._print_tree(self._root)\n",
        "\n",
        "    # Internal helper function that recursively print\n",
        "    # everything in the tree\n",
        "    def _print_tree(self, node):\n",
        "        if node is not None:\n",
        "            self._print_tree(node.left)\n",
        "            #print(\"{key} : {value}\".format(key = node.key, value = node.value))\n",
        "            print(node)\n",
        "            self._print_tree(node.right)"
      ],
      "execution_count": 7,
      "outputs": []
    },
    {
      "cell_type": "code",
      "metadata": {
        "id": "RgyKpkOwHL3D"
      },
      "source": [
        "### YOU CAN RUN AND COMPILE THIS CODE ####\n",
        "\n",
        "from abc import abstractmethod\n",
        "from abc import ABC, abstractmethod\n",
        "\n",
        "# Abstract class\n",
        "# Works as a blue print for all carinventory classes\n",
        "class CarInventoryAbstract(ABC):\n",
        "\n",
        "  @abstractmethod\n",
        "  def search_vin(self, vin): # given the vin number, return a car object that has a matching vin number\n",
        "    pass\n",
        "\n",
        "  @abstractmethod\n",
        "  def create_inventory(self, car_information_file):\n",
        "    pass \n",
        "\n",
        "\n",
        "# A dictionary based implementation for the CarInventory Abstract class\n",
        "class CarInventoryDict(CarInventoryAbstract):\n",
        "\n",
        "  def __init__(self):\n",
        "    self.__car_dict = BSTDict()\n",
        "\n",
        "\n",
        "  def search_vin(self, vin):\n",
        "    if vin in self.__car_dict: # searching through the dictionary using the magic method\n",
        "      return self.__car_dict[vin]\n",
        "\n",
        "  def create_inventory(self, car_information_file):\n",
        "    # Open the file for reading \n",
        "     # loop through each line of the file\n",
        "     # For each line, create a car object and add it to dictionary object.\n",
        "    with open(car_information_file) as file:\n",
        "      for line in file:\n",
        "        line = line.strip(\"\\n\")\n",
        "\n",
        "        words = line.split()\n",
        "\n",
        "        car = Car()\n",
        "        car.set_make(words[0])\n",
        "        car.set_model(words[1])\n",
        "        car.set_color(words[2])\n",
        "        car.set_vin(int(words[3]))\n",
        "        car.add_seat(words[4])\n",
        "        car.add_seat(words[5])\n",
        "        car.add_seat(words[6])\n",
        "        \n",
        "        self.__car_dict[car.get_vin()] = car  # adding to the dictionary using the magic methods    "
      ],
      "execution_count": 6,
      "outputs": []
    },
    {
      "cell_type": "markdown",
      "metadata": {
        "id": "mi2CfJg_IHGs"
      },
      "source": [
        "Based on the above classes, we need to do the following:\n",
        "1.   Implement a new class ```SLDict``` that Inherits from ```DictAbstract``` . The new class will include three main modifications: a sorted list as the internal data structure, a sort function, and the search will be binary search instead of sequential search.\n",
        "2.   Implement a new class ```CarInventorySLDict``` that inherits from the ```CarInventoryAbstract``` and uses the ```SLDict``` instead of using ```BSTDict```. \n",
        "\n"
      ]
    },
    {
      "cell_type": "markdown",
      "metadata": {
        "id": "Gs0f6MVwLE2M"
      },
      "source": [
        "### Sorted List Dictionary\n",
        "\n",
        "First, we will inherit from the dictionary abstract class to know exactly what functions we will need to implement."
      ]
    },
    {
      "cell_type": "code",
      "metadata": {
        "id": "aoWYkaPBLDqI"
      },
      "source": [
        "class SLDict(DictAbstract):"
      ],
      "execution_count": null,
      "outputs": []
    },
    {
      "cell_type": "markdown",
      "metadata": {
        "id": "3OhPfNa5LdnI"
      },
      "source": [
        "Next, we will go over the previous functions in the ```BSTDict``` and see which functions will not be affected by the new implementation. By checking the code, you could see that all the functions inside the ```BSTDict``` class cannot be used and all functions need to be implemented"
      ]
    },
    {
      "cell_type": "code",
      "metadata": {
        "id": "WL_x-H9kLnfg"
      },
      "source": [
        "class SLDict(DictAbstract):\n",
        "\n",
        "  # creating the internal list\n",
        "  def __init__(self):\n",
        "    # this list is a list of lists\n",
        "    # it consists of key-value pairs, e.g., [[1,\"Jack\"], [10, \"Annie\"], [20, \"Ron\"]]\n",
        "    self._dict_list = [] \n",
        "    self._size = 0"
      ],
      "execution_count": null,
      "outputs": []
    },
    {
      "cell_type": "markdown",
      "metadata": {
        "id": "2nS6EXbrM_NA"
      },
      "source": [
        "Now, similar to the above, go ahead and implement your own ```SLDict``` class. The implementation for this class is **NOT GIVEN**. You have to think how to implement it and what sort function you will actually use to sort the entries in the dictionary. "
      ]
    },
    {
      "cell_type": "code",
      "metadata": {
        "id": "0Ejxa_8mNXEq"
      },
      "source": [
        "##### IMPLEMENT SLDict here``#####"
      ],
      "execution_count": null,
      "outputs": []
    },
    {
      "cell_type": "markdown",
      "metadata": {
        "id": "_qA3h6k3Nrm9"
      },
      "source": [
        "### Car Inventory Class\n",
        "\n",
        "Now, we need to reimplement the ```CarInvenotry``` to use the ```SLDict``` instead of using the ```BSTDict```. Since all functions are going to stay the same and we only need to change the dictionary used in the ```__init__``` function, we could directly inherit from ```CarInventoryDict``` and use all of its functions. "
      ]
    },
    {
      "cell_type": "code",
      "metadata": {
        "id": "lKZ6DPzpO6pJ"
      },
      "source": [
        "### YOU CAN RUN AND COMPILE THIS CODE ####\n",
        "\n",
        "# Creating the car information file.\n",
        "with open('car_information_file.txt', 'w') as writefile:\n",
        "    writefile.write(\"Honda  CRV Black 12331314124133156 black blue  red\\n\") \n",
        "    writefile.write(\"Honda  CRV Red 34950468107179134 black black black\\n\")  \n",
        "    writefile.write(\"Toyota  Highlander Blue 12128496358719487 black black black\\n\") "
      ],
      "execution_count": 4,
      "outputs": []
    },
    {
      "cell_type": "code",
      "metadata": {
        "colab": {
          "base_uri": "https://localhost:8080/"
        },
        "id": "Fk7UFHTMORh_",
        "outputId": "df274cbb-e0fd-448a-fdf6-4262cb93e41a"
      },
      "source": [
        "# CarInventorySLDict: inherits from CarInventoryDict\n",
        "# all functions are staying the same\n",
        "# only need to redefine the __init__ function to use the new SLDict instead of BSTDict\n",
        "class CarInventorySLDict(CarInventoryDict):\n",
        "\n",
        "  def __init__(self):\n",
        "    self.__car_dict = SLDict()\n",
        "\n",
        "\n",
        "# Implementing the main to make sure that the class is working and the functions\n",
        "def main():\n",
        "  cInventoryDict = CarInventoryDict()\n",
        "  cInventoryDict.create_inventory(\"car_information_file.txt\")\n",
        "  vin = 34950468107179134\n",
        "  car = cInventoryDict.search_vin(vin) # searching for the given vin \n",
        "\n",
        "  if car == None:\n",
        "    print(\"Car not found\")\n",
        "\n",
        "  else:\n",
        "    print(car) # using the __str__ magic method from the car class \n",
        "\n",
        "\n",
        "if __name__ == \"__main__\":\n",
        "  main()      "
      ],
      "execution_count": 8,
      "outputs": [
        {
          "output_type": "stream",
          "name": "stdout",
          "text": [
            "Model: CRV Make:Honda Color: Red\n"
          ]
        }
      ]
    }
  ]
}