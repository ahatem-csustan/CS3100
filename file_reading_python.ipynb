{
  "nbformat": 4,
  "nbformat_minor": 0,
  "metadata": {
    "colab": {
      "name": "file_reading_python.ipynb",
      "provenance": [],
      "collapsed_sections": [],
      "authorship_tag": "ABX9TyMsFq5ncP2m7E6DUpthbhI0",
      "include_colab_link": true
    },
    "kernelspec": {
      "name": "python3",
      "display_name": "Python 3"
    },
    "language_info": {
      "name": "python"
    }
  },
  "cells": [
    {
      "cell_type": "markdown",
      "metadata": {
        "id": "view-in-github",
        "colab_type": "text"
      },
      "source": [
        "<a href=\"https://colab.research.google.com/github/ahatem-csustan/CS3100/blob/main/file_reading_python.ipynb\" target=\"_parent\"><img src=\"https://colab.research.google.com/assets/colab-badge.svg\" alt=\"Open In Colab\"/></a>"
      ]
    },
    {
      "cell_type": "markdown",
      "metadata": {
        "id": "KuoTRVIAk7fj"
      },
      "source": [
        "# File Reading\n",
        "\n",
        "In this tutorial, we will cover the following concepts:\n",
        "*   Open files\n",
        "*   Close files\n",
        "*   Reading from and writing to text files\n",
        "*   Split lines \n",
        "*   Reading from and writing to csv files\n",
        "*   Read from a directory of files \n",
        "\n",
        "\n",
        "\n"
      ]
    },
    {
      "cell_type": "markdown",
      "metadata": {
        "id": "22ved0FDnGcG"
      },
      "source": [
        "## File Opening \n",
        "\n",
        "File opening and handle in Python is more straight forward than other languages. To open all file, all you need to do is to use the open function in Python."
      ]
    },
    {
      "cell_type": "code",
      "metadata": {
        "id": "grUYaQq9k4Zx"
      },
      "source": [
        "file_handler = open(\"demo_file.txt\", \"r\")"
      ],
      "execution_count": null,
      "outputs": []
    },
    {
      "cell_type": "markdown",
      "metadata": {
        "id": "18uY-QG5oGJ0"
      },
      "source": [
        "The ``` open()``` function can take one input, two inputs, or more. Here, we will only focus on two inputs. \n",
        "\n",
        "Let's look at the line of code we have above. There are two inputs. The first one, ```demo_file.txt```, is the name of the file that you want to either write to or read from. The second input, ``` r ``` is the opening mode. There are multiple modes depending on they type of the file and what you want to open the file for. \n",
        "\n",
        "*   ``` r ```  opens a file for reading (default).\n",
        "*   ``` w ```  opens a file for writing. Creates a new file if it does not exist or truncates the file if it exists.\n",
        "*   ``` x ```  Opens a file for exclusive creation. If the file already exists, the operation fails.\n",
        "*   ``` a ```  Opens a file for appending at the end of the file without truncating it. Creates a new file if it does not exist.\n",
        "*   ``` t ```  Opens in text mode. \n",
        "*   ``` b ```  Opens in binary mode.\n",
        "*   ``` + ```  Opens a file for updating (reading and writing)"
      ]
    },
    {
      "cell_type": "markdown",
      "metadata": {
        "id": "KSLD5Xb8u1GM"
      },
      "source": [
        "## File Closing\n",
        "\n",
        "Now that we opened the file, we need to close it after we use it to free up the memory. We use the ```close()``` function to do that.\n",
        "\n"
      ]
    },
    {
      "cell_type": "code",
      "metadata": {
        "id": "asR8fDavgFwB"
      },
      "source": [
        "file_handler.close()"
      ],
      "execution_count": null,
      "outputs": []
    },
    {
      "cell_type": "markdown",
      "metadata": {
        "id": "a6lkrAgKgJV8"
      },
      "source": [
        "The above method is not entirely safe. If something happens while we are closing the file, the program might not correctly close it. It is better to use the try finally block."
      ]
    },
    {
      "cell_type": "code",
      "metadata": {
        "id": "ZhBYJlXUgfaQ"
      },
      "source": [
        "try:\n",
        "   file_handler = open(\"demo_file.txt\", \"r\")\n",
        "finally:\n",
        "   file_handler.close()"
      ],
      "execution_count": null,
      "outputs": []
    },
    {
      "cell_type": "markdown",
      "metadata": {
        "id": "By0MoQ_dgvDf"
      },
      "source": [
        "Even better is to use the ```with``` statement. his ensures that the file is closed when the block inside the ```with``` statement is exited.\n",
        "\n",
        "> Indented block\n",
        "\n"
      ]
    },
    {
      "cell_type": "code",
      "metadata": {
        "id": "3Nu07dBJhAmX"
      },
      "source": [
        "with open(\"file_demo.txt\",\"r\") as file_handler:\n",
        "  # perform file operations."
      ],
      "execution_count": null,
      "outputs": []
    },
    {
      "cell_type": "markdown",
      "metadata": {
        "id": "oMCbJbQAhKC0"
      },
      "source": [
        "In the following, we will stick to using the ```with``` statement"
      ]
    },
    {
      "cell_type": "markdown",
      "metadata": {
        "id": "tuzc6k4YtP2I"
      },
      "source": [
        "## File Reading and Writing\n",
        "\n",
        "Since we do not have a file yet, we will start with writing to files. "
      ]
    },
    {
      "cell_type": "code",
      "metadata": {
        "id": "yLffZZ_DtrZe"
      },
      "source": [
        "### COMPILE AND RUN THIS CODE ###\n",
        "with open(\"demo_file.txt\", \"w\") as file_handler:\n",
        "  file_handler.write(\"my first line\\n\")\n",
        "  file_handler.write(\"my second line\\n\")\n"
      ],
      "execution_count": 1,
      "outputs": []
    },
    {
      "cell_type": "markdown",
      "metadata": {
        "id": "GNOweiAShuwg"
      },
      "source": [
        "Now we will go ahead and open the file for reading and read it."
      ]
    },
    {
      "cell_type": "code",
      "metadata": {
        "colab": {
          "base_uri": "https://localhost:8080/"
        },
        "id": "J7N1Pb1luSJM",
        "outputId": "af171a04-7f37-42da-afc5-ddc41babaa04"
      },
      "source": [
        "### COMPILE AND RUN THIS CODE ###\n",
        "\n",
        "with open(\"demo_file.txt\", \"r\") as file_handler:\n",
        "  print(file_handler.read())\n"
      ],
      "execution_count": 2,
      "outputs": [
        {
          "output_type": "stream",
          "name": "stdout",
          "text": [
            "my first line\n",
            "my second line\n",
            "\n"
          ]
        }
      ]
    },
    {
      "cell_type": "markdown",
      "metadata": {
        "id": "xHzcpu1_h6Wf"
      },
      "source": [
        "The ``` read()``` function reads the whole file at once. You can also decide the size of what you want to read."
      ]
    },
    {
      "cell_type": "code",
      "metadata": {
        "colab": {
          "base_uri": "https://localhost:8080/"
        },
        "id": "446nYxw7iN5s",
        "outputId": "0fafe6fc-a3dc-4b91-ce4f-7700a2490774"
      },
      "source": [
        "### COMPILE AND RUN THIS CODE ###\n",
        "\n",
        "with open(\"demo_file.txt\", \"r\") as file_handler:\n",
        "  print(file_handler.read(2)) # Read the first 2 data\n",
        "  print(file_handler.read(5)) # Read the second 5 data\n"
      ],
      "execution_count": 4,
      "outputs": [
        {
          "output_type": "stream",
          "name": "stdout",
          "text": [
            "my\n",
            " firs\n"
          ]
        }
      ]
    },
    {
      "cell_type": "markdown",
      "metadata": {
        "id": "5BaZO4kriwGb"
      },
      "source": [
        "It counts the spaces as a character (check the output of the run above). There are also other methods to read from files. For example, if you want to read one line at a time, you can use the ```readline()``` function. This function reads the whole line up until the newline character, including it."
      ]
    },
    {
      "cell_type": "code",
      "metadata": {
        "colab": {
          "base_uri": "https://localhost:8080/"
        },
        "id": "_2rZ1s1fjQB9",
        "outputId": "a5f6b579-8871-4d54-8f3b-bb7e9f410b37"
      },
      "source": [
        "### COMPILE AND RUN THIS CODE ###\n",
        "\n",
        "with open(\"demo_file.txt\", \"r\") as file_handler:\n",
        "  print(file_handler.readline()) \n",
        "  print(file_handler.readline()) "
      ],
      "execution_count": 5,
      "outputs": [
        {
          "output_type": "stream",
          "name": "stdout",
          "text": [
            "my first line\n",
            "\n",
            "my second line\n",
            "\n"
          ]
        }
      ]
    },
    {
      "cell_type": "markdown",
      "metadata": {
        "id": "akkMGutYjgn9"
      },
      "source": [
        "You can also read all lines into a list using the ```readlines()``` function."
      ]
    },
    {
      "cell_type": "code",
      "metadata": {
        "colab": {
          "base_uri": "https://localhost:8080/"
        },
        "id": "MJRtNnUzjkzn",
        "outputId": "47e74a8c-f7a0-422e-a70c-c625b93fcb14"
      },
      "source": [
        "### COMPILE AND RUN THIS CODE ###\n",
        "\n",
        "with open(\"demo_file.txt\", \"r\") as file_handler:\n",
        "  print(file_handler.readlines()) "
      ],
      "execution_count": 6,
      "outputs": [
        {
          "output_type": "stream",
          "name": "stdout",
          "text": [
            "['my first line\\n', 'my second line\\n']\n"
          ]
        }
      ]
    },
    {
      "cell_type": "markdown",
      "metadata": {
        "id": "jWA6QbEKjuHf"
      },
      "source": [
        "You can also loop through all the lines using a for loop."
      ]
    },
    {
      "cell_type": "code",
      "metadata": {
        "colab": {
          "base_uri": "https://localhost:8080/"
        },
        "id": "rr0UuUm5j-bI",
        "outputId": "08bc30ef-b000-4d2a-aef6-fcd3665236ad"
      },
      "source": [
        "### COMPILE AND RUN THIS CODE ###\n",
        "\n",
        "with open(\"demo_file.txt\", \"r\") as file_handler:\n",
        "  for line in file_handler:\n",
        "    print(line) "
      ],
      "execution_count": 7,
      "outputs": [
        {
          "output_type": "stream",
          "name": "stdout",
          "text": [
            "my first line\n",
            "\n",
            "my second line\n",
            "\n"
          ]
        }
      ]
    },
    {
      "cell_type": "markdown",
      "metadata": {
        "id": "zA93bT9hzDlE"
      },
      "source": [
        "## Split Lines\n",
        "\n",
        "Sometimes after reading a line, we need further to process it to extract every single word. We can do that using the ```split``` function. However, we need to understand what the delimiter is between the word in order to correctly split it. \n",
        "\n",
        "Let's go back to our ```demo_file.txt```\n",
        "\n"
      ]
    },
    {
      "cell_type": "code",
      "metadata": {
        "colab": {
          "base_uri": "https://localhost:8080/"
        },
        "id": "AGPxHKeyzfxT",
        "outputId": "42921c9c-06c3-4432-d963-c9e2be532776"
      },
      "source": [
        "### COMPILE AND RUN THIS CODE ###\n",
        "with open(\"demo_file.txt\", \"w\") as file_handler:\n",
        "  file_handler.write(\"my first line\\n\")\n",
        "  file_handler.write(\"my second line\\n\")\n",
        "\n",
        "with open(\"demo_file.txt\", \"r\") as file_handler: \n",
        "  for line in file_handler: # looping through all the lines in the file \n",
        "    \n",
        "    line = line.strip(\"\\n\") # removing the end of line \n",
        "\n",
        "    words = line.split() # splitting the line based on space delimiter\n",
        "\n",
        "    print(words)"
      ],
      "execution_count": 4,
      "outputs": [
        {
          "output_type": "stream",
          "name": "stdout",
          "text": [
            "['my', 'first', 'line']\n",
            "['my', 'second', 'line']\n"
          ]
        }
      ]
    },
    {
      "cell_type": "markdown",
      "metadata": {
        "id": "5rKBNsMj0qPq"
      },
      "source": [
        "The function ```split``` can also take a delimiter as input."
      ]
    },
    {
      "cell_type": "code",
      "metadata": {
        "colab": {
          "base_uri": "https://localhost:8080/"
        },
        "id": "uN2efb1c0u0E",
        "outputId": "4186e320-77e6-459d-cc20-3d02dc1c4cfc"
      },
      "source": [
        "### COMPILE AND RUN THIS CODE ###\n",
        "with open(\"demo_file.txt\", \"w\") as file_handler:\n",
        "  file_handler.write(\"my,first,line\\n\")\n",
        "  file_handler.write(\"my,second,line\\n\")\n",
        "\n",
        "with open(\"demo_file.txt\", \"r\") as file_handler: \n",
        "  for line in file_handler: # looping through all the lines in the file \n",
        "    \n",
        "    line = line.strip(\"\\n\") # removing the end of line \n",
        "\n",
        "    words = line.split(\",\") # splitting the line based on a comma delimiter\n",
        "\n",
        "    print(words)"
      ],
      "execution_count": 6,
      "outputs": [
        {
          "output_type": "stream",
          "name": "stdout",
          "text": [
            "['my', 'first', 'line']\n",
            "['my', 'second', 'line']\n"
          ]
        }
      ]
    },
    {
      "cell_type": "markdown",
      "metadata": {
        "id": "3BiyvwIf08EU"
      },
      "source": [
        "So, you have to know exactly how your words are organized in the file in order to correctly split the line into words."
      ]
    },
    {
      "cell_type": "markdown",
      "metadata": {
        "id": "LlQzJ6XDkUhn"
      },
      "source": [
        "## Reading and Writing to CSV files\n",
        "\n",
        "Python allows you to open and read from other types of files like csv and excel sheets. \n",
        "\n",
        "To read a csv file, you have to import the csv library. You will be able to open the csv file using the ``` open()``` function but you will use other specific functions for reading and writing. \n",
        "\n",
        "Let's first start with writing to a csv file and then reading from. \n",
        "\n",
        "First, you have to create a ```csvwriter``` object to be able to write to the csv file. "
      ]
    },
    {
      "cell_type": "code",
      "metadata": {
        "id": "ujd655V6louA"
      },
      "source": [
        "import csv\n",
        "\n",
        "with open(\"demo_file.csv\", \"w\") as csvfile:\n",
        "  csvwriter = csv.writer(csvfile) "
      ],
      "execution_count": null,
      "outputs": []
    },
    {
      "cell_type": "markdown",
      "metadata": {
        "id": "FeVDudKJtx6z"
      },
      "source": [
        "The function ```writerow``` is then used to write a complete row into the csv file. "
      ]
    },
    {
      "cell_type": "code",
      "metadata": {
        "id": "NbYMwkZJuCFg"
      },
      "source": [
        "### COMPILE AND RUN THIS CODE ###\n",
        "\n",
        "import csv\n",
        "\n",
        "fields = [\"first_name\", \"last_name\", \"ID\"]\n",
        "\n",
        "with open(\"demo_file.csv\", \"w\") as csvfile:\n",
        "  csvwriter = csv.writer(csvfile) \n",
        "  csvwriter.writerow(fields)"
      ],
      "execution_count": 1,
      "outputs": []
    },
    {
      "cell_type": "markdown",
      "metadata": {
        "id": "cFfKYWOOuh7F"
      },
      "source": [
        "You could also write multiple rows as once to the csv file using the ```writerows``` function."
      ]
    },
    {
      "cell_type": "code",
      "metadata": {
        "id": "M9M0D4qmus5H"
      },
      "source": [
        "### COMPILE AND RUN THIS CODE ###\n",
        "\n",
        "import csv\n",
        "\n",
        "fields = [\"first_name\", \"last_name\", \"ID\"]\n",
        "rows = [[\"Jack\", \"John\", 1234],\n",
        "        [\"Amy\", \"Brian\", 2345],\n",
        "        [\"Annie\", \"Jackson\", 3456]]\n",
        "\n",
        "with open(\"demo_file.csv\", \"w\") as csvfile:\n",
        "  csvwriter = csv.writer(csvfile) \n",
        "  csvwriter.writerow(fields)\n",
        "  csvwriter.writerows(rows)"
      ],
      "execution_count": 2,
      "outputs": []
    },
    {
      "cell_type": "markdown",
      "metadata": {
        "id": "i9_YOOh1vrs7"
      },
      "source": [
        "Now, to read from the csvfile, we would need to create a ```csvreader``` object that iterates throughout the lines in the specified CSV document."
      ]
    },
    {
      "cell_type": "code",
      "metadata": {
        "colab": {
          "base_uri": "https://localhost:8080/"
        },
        "id": "SOuxY7Kmv96D",
        "outputId": "d5b766bb-4674-489d-f196-1d12baad486d"
      },
      "source": [
        "### COMPILE AND RUN THIS CODE ###\n",
        "\n",
        "import csv\n",
        "\n",
        "with open(\"demo_file.csv\", \"r\") as csvfile:\n",
        "  csvreader = csv.reader(csvfile)\n",
        "\n",
        "  for lines in csvreader:\n",
        "        print(lines)\n"
      ],
      "execution_count": 3,
      "outputs": [
        {
          "output_type": "stream",
          "name": "stdout",
          "text": [
            "['first_name', 'last_name', 'ID']\n",
            "['Jack', 'John', '1234']\n",
            "['Amy', 'Brian', '2345']\n",
            "['Annie', 'Jackson', '3456']\n"
          ]
        }
      ]
    },
    {
      "cell_type": "markdown",
      "metadata": {
        "id": "IARk7aCJxTRf"
      },
      "source": [
        "## Reading from a Directory\n",
        "\n",
        "If you have multiple files that you need to open and read from, instead of adding every file name, we could use the Python functions that would allow us to read all the file names in a directory. Then, we could open each file afterwards."
      ]
    },
    {
      "cell_type": "code",
      "metadata": {
        "id": "iJAPLQDGyA-F"
      },
      "source": [
        "import os\n",
        "\n",
        "path = \"directory\"\n",
        "files = os.listdir(path)"
      ],
      "execution_count": null,
      "outputs": []
    },
    {
      "cell_type": "markdown",
      "metadata": {
        "id": "0L39NuC6ya8Q"
      },
      "source": [
        "the ```os.listdir``` function lists all the files and the directories in the given folder. \n",
        "\n",
        "After you get the file names, you would have to add the path to the file name in order to open the file (You have to give the full path to the file in order to open it)."
      ]
    },
    {
      "cell_type": "code",
      "metadata": {
        "id": "A_xt86z7yqIb"
      },
      "source": [
        "import os\n",
        "\n",
        "path = \"directory\"\n",
        "\n",
        "files = os.listdir(path)\n",
        "files_path = [os.path.join(path, f) for f in files]"
      ],
      "execution_count": null,
      "outputs": []
    },
    {
      "cell_type": "markdown",
      "metadata": {
        "id": "XTI4AEY6ywX_"
      },
      "source": [
        "You can now loop through the ```files_path``` list in order to open all the files in the directory."
      ]
    },
    {
      "cell_type": "markdown",
      "metadata": {
        "id": "E3JefRhyxAN0"
      },
      "source": [
        "## Resources:\n",
        "\n",
        "https://www.geeksforgeeks.org/reading-csv-files-in-python/\n",
        "\n",
        "https://www.geeksforgeeks.org/writing-csv-files-in-python/\n",
        "\n",
        "https://realpython.com/python-csv/\n",
        "\n",
        "https://www.tutorialspoint.com/python/os_listdir.htm"
      ]
    }
  ]
}