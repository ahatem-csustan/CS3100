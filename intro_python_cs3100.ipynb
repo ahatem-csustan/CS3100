{
  "nbformat": 4,
  "nbformat_minor": 0,
  "metadata": {
    "colab": {
      "name": "Untitled23.ipynb",
      "provenance": [],
      "collapsed_sections": [],
      "authorship_tag": "ABX9TyPvYQINKH/ekPFw4fia7OSN",
      "include_colab_link": true
    },
    "kernelspec": {
      "name": "python3",
      "display_name": "Python 3"
    },
    "language_info": {
      "name": "python"
    }
  },
  "cells": [
    {
      "cell_type": "markdown",
      "metadata": {
        "id": "view-in-github",
        "colab_type": "text"
      },
      "source": [
        "<a href=\"https://colab.research.google.com/github/ahatem-csustan/CS3100/blob/main/intro_python_cs3100.ipynb\" target=\"_parent\"><img src=\"https://colab.research.google.com/assets/colab-badge.svg\" alt=\"Open In Colab\"/></a>"
      ]
    },
    {
      "cell_type": "markdown",
      "metadata": {
        "id": "2wgrWi5IZSla"
      },
      "source": [
        "#CS3100 Python Tutorial in Google Colab\n",
        "\n",
        "This tutorial is written by Ayat Hatem for CS3100. \n",
        "\n",
        "This tutorial will cover the basic points we want to work with in Python. Other tutorials will cover the new concepts needed for the each step in the project.\n"
      ]
    }
  ]
}